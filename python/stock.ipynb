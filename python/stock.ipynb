{
 "cells": [
  {
   "cell_type": "markdown",
   "metadata": {},
   "source": [
    "input is a tuple that contains as elements\n",
    "\n",
    "each element in the tuple will have company initials, quantity, price and status where status is is buy(b) and sell(s)\n",
    "\n",
    "if the inpur is (\"ABC\",300,450.0,\"b\"),(\"XYZ\",120,298.5,\"s\"),(\"ASD\",29,45.5,\"s\"),(\"QWE\",160,23.7,\"b\")\n",
    "\n",
    "output will be\n",
    "\n",
    "{'Buys':139692, 'Sell':371395.5, 'BuysQty':460, 'SellQty':149}\n",
    "\n",
    "if the input is an empty tuple print \"Buys:0 Sell:0\"\n",
    "\n",
    "if the input is not as per the format required for example (\"SDF\",200,4.5,\"I\") print(\"Invalid Input\")"
   ]
  },
  {
   "cell_type": "code",
   "execution_count": 3,
   "metadata": {},
   "outputs": [],
   "source": [
    "\n",
    "def process_input(input_tuple):\n",
    "    if not input_tuple:\n",
    "        return {\"Buys\": 0, \"Sell\": 0, \"BuysQty\": 0, \"SellQty\": 0}\n",
    "    total_buys = 0\n",
    "    total_sells = 0\n",
    "    total_buys_qty = 0\n",
    "    total_sells_qty = 0\n",
    "    for i in input_tuple:\n",
    "        if i[3] == \"b\": #check status\n",
    "            total_buys += i[2] * i[1] #updating buy price\n",
    "            total_buys_qty += i[1] # updating buy quantity\n",
    "        elif i[3] == \"s\":\n",
    "            total_sells += i[2] * i[1]\n",
    "            total_sells_qty += i[1]\n",
    "        else:\n",
    "            return \"Invalid Input\"\n",
    "    return {\"Buys\": total_buys, \"Sell\": total_sells, \"BuysQty\": total_buys_qty, \"SellQty\": total_sells_qty}\n"
   ]
  },
  {
   "cell_type": "code",
   "execution_count": 4,
   "metadata": {},
   "outputs": [
    {
     "data": {
      "text/plain": [
       "'Invalid Input'"
      ]
     },
     "execution_count": 4,
     "metadata": {},
     "output_type": "execute_result"
    }
   ],
   "source": [
    "\n",
    "tuple_list = []\n",
    "\n",
    "while True:\n",
    "     \n",
    "    input_tuple = tuple(input(\"Enter tuple elements separated by spaces: \").split())\n",
    "    tuple_list.append(input_tuple)\n",
    "    \n",
    "    choice = input(\"Do you want to enter another tuple (Y/N)? \")\n",
    "    if choice.upper() != 'Y':\n",
    "        break\n",
    "input_tuple=tuple(tuple_list)\n",
    "process_input(input_tuple)"
   ]
  },
  {
   "cell_type": "code",
   "execution_count": 5,
   "metadata": {},
   "outputs": [
    {
     "name": "stdout",
     "output_type": "stream",
     "text": [
      "{'Buys': 138792.0, 'Sell': 37139.5, 'BuysQty': 460, 'SellQty': 149}\n"
     ]
    }
   ],
   "source": [
    "\n",
    "input_tuple = (\n",
    "    (\"ABC\", 300, 450.0, \"b\"),\n",
    "    (\"XYZ\", 120, 298.5, \"s\"),\n",
    "    (\"ASD\", 29, 45.5, \"s\"),\n",
    "    (\"QWE\", 160, 23.7, \"b\")\n",
    ")\n",
    "print(process_input(input_tuple))"
   ]
  },
  {
   "cell_type": "code",
   "execution_count": 6,
   "metadata": {},
   "outputs": [
    {
     "name": "stdout",
     "output_type": "stream",
     "text": [
      "{'Buys': 0, 'Sell': 0, 'BuysQty': 0, 'SellQty': 0}\n"
     ]
    }
   ],
   "source": [
    "input_tuple = ()\n",
    "print(process_input(input_tuple))"
   ]
  },
  {
   "cell_type": "code",
   "execution_count": 7,
   "metadata": {},
   "outputs": [
    {
     "name": "stdout",
     "output_type": "stream",
     "text": [
      "Invalid Input\n"
     ]
    }
   ],
   "source": [
    "input_tuple = (\n",
    "    (\"ABC\", 300, 450.0, \"b\"),\n",
    "    (\"XYZ\", 120, 298.5, \"s\"),\n",
    "    (\"ASD\", 29, 45.5, \"s\"),\n",
    "    (\"QWE\", 160, 23.7, \"b\"),\n",
    "    (\"SDF\", 200, 4.5, \"I\")\n",
    ")\n",
    "print(process_input(input_tuple))"
   ]
  }
 ],
 "metadata": {
  "kernelspec": {
   "display_name": "Python 3",
   "language": "python",
   "name": "python3"
  },
  "language_info": {
   "codemirror_mode": {
    "name": "ipython",
    "version": 3
   },
   "file_extension": ".py",
   "mimetype": "text/x-python",
   "name": "python",
   "nbconvert_exporter": "python",
   "pygments_lexer": "ipython3",
   "version": "3.10.11"
  },
  "orig_nbformat": 4
 },
 "nbformat": 4,
 "nbformat_minor": 2
}
