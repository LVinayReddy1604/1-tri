{
 "cells": [
  {
   "cell_type": "markdown",
   "metadata": {},
   "source": [
    "Class & Objects"
   ]
  },
  {
   "cell_type": "code",
   "execution_count": 63,
   "metadata": {},
   "outputs": [
    {
     "name": "stdout",
     "output_type": "stream",
     "text": [
      "<class '__main__.Account'>\n",
      "<__main__.Account object at 0x0000013A009F4E20>\n",
      "<__main__.Account object at 0x0000013A008AC970>\n",
      "John\n",
      "1000\n",
      "Marina\n",
      "100010\n",
      "0\n",
      "1348630171168\n",
      "1348626205296\n",
      "1348628826480\n",
      "1348639265648\n"
     ]
    }
   ],
   "source": [
    "class Account: #empty type\n",
    "    pass\n",
    "\n",
    "a1=Account() # constructor call\n",
    "a2=Account()\n",
    "a1.name=\"John\" # attribute assignment\n",
    "a1.balance=1000\n",
    "a2.surname=\"Marina\" # attribute assignment\n",
    "a2.value=100010\n",
    "a2.balance=0;\n",
    "print(Account)\n",
    "print(a1)\n",
    "print(a2)\n",
    "print(a1.name)\n",
    "print(a1.balance)\n",
    "print(a2.surname)\n",
    "print(a2.value)\n",
    "print(a2.balance)\n",
    "print(id(a1))\n",
    "print(id(a1.name))\n",
    "print(id(a2))\n",
    "print(id(a2.surname))\n"
   ]
  },
  {
   "cell_type": "code",
   "execution_count": 64,
   "metadata": {},
   "outputs": [
    {
     "name": "stdout",
     "output_type": "stream",
     "text": [
      "ABCD\n"
     ]
    }
   ],
   "source": [
    "a3=Account()\n",
    "a3.name=\"ABCD\"\n",
    "print(a3.name)"
   ]
  },
  {
   "cell_type": "markdown",
   "metadata": {},
   "source": [
    "remove attribute using del\n"
   ]
  },
  {
   "cell_type": "code",
   "execution_count": 65,
   "metadata": {},
   "outputs": [
    {
     "ename": "AttributeError",
     "evalue": "'Account' object has no attribute 'name'",
     "output_type": "error",
     "traceback": [
      "\u001b[1;31m---------------------------------------------------------------------------\u001b[0m",
      "\u001b[1;31mAttributeError\u001b[0m                            Traceback (most recent call last)",
      "Cell \u001b[1;32mIn[65], line 2\u001b[0m\n\u001b[0;32m      1\u001b[0m \u001b[39mdel\u001b[39;00m a3\u001b[39m.\u001b[39mname\n\u001b[1;32m----> 2\u001b[0m \u001b[39mprint\u001b[39m(a3\u001b[39m.\u001b[39;49mname)\n",
      "\u001b[1;31mAttributeError\u001b[0m: 'Account' object has no attribute 'name'"
     ]
    }
   ],
   "source": [
    "del a3.name\n",
    "print(a3.name)"
   ]
  },
  {
   "cell_type": "markdown",
   "metadata": {},
   "source": [
    "Methods & constructors"
   ]
  },
  {
   "cell_type": "code",
   "execution_count": null,
   "metadata": {},
   "outputs": [
    {
     "data": {
      "text/plain": [
       "4000"
      ]
     },
     "execution_count": 50,
     "metadata": {},
     "output_type": "execute_result"
    }
   ],
   "source": [
    "#Method is a function which is defined inside the class\n",
    "class Account:\n",
    "    def deposit(self, amount):\n",
    "        self.balance+=amount\n",
    "\n",
    "a=Account()\n",
    "a.balance=1000\n",
    "a.deposit(1000) # implicit arguement a\n",
    "a.balance\n",
    "\n",
    "Account.deposit(a,2000) #explicitly calling the method\n",
    "a.balance"
   ]
  },
  {
   "cell_type": "code",
   "execution_count": 67,
   "metadata": {},
   "outputs": [
    {
     "ename": "AttributeError",
     "evalue": "'Account' object has no attribute 'deposit'",
     "output_type": "error",
     "traceback": [
      "\u001b[1;31m---------------------------------------------------------------------------\u001b[0m",
      "\u001b[1;31mAttributeError\u001b[0m                            Traceback (most recent call last)",
      "Cell \u001b[1;32mIn[67], line 3\u001b[0m\n\u001b[0;32m      1\u001b[0m b\u001b[39m=\u001b[39mAccount()\n\u001b[0;32m      2\u001b[0m b\u001b[39m.\u001b[39mbalance\u001b[39m=\u001b[39m\u001b[39m10\u001b[39m\n\u001b[1;32m----> 3\u001b[0m b\u001b[39m.\u001b[39;49mdeposit(\u001b[39m100\u001b[39m)\n\u001b[0;32m      4\u001b[0m b\u001b[39m.\u001b[39mbalance\n",
      "\u001b[1;31mAttributeError\u001b[0m: 'Account' object has no attribute 'deposit'"
     ]
    }
   ],
   "source": [
    "b=Account()\n",
    "b.balance=10\n",
    "b.deposit(100)\n",
    "b.balance"
   ]
  },
  {
   "cell_type": "code",
   "execution_count": 77,
   "metadata": {},
   "outputs": [
    {
     "name": "stdout",
     "output_type": "stream",
     "text": [
      "Name: jamoon \n",
      " Number: 101 \n",
      " Balance: 3000\n",
      "None\n",
      "{'name': 'jamoon', 'number': 101, 'balance': 3000}\n",
      "__main__\n"
     ]
    }
   ],
   "source": [
    "class Acount:\n",
    "    def __init__(self, name,number, balance=0):\n",
    "        self.name=name\n",
    "        self.number=number\n",
    "        self.balance=balance\n",
    "\n",
    "    def deposit(self,amount):\n",
    "        self.balance+=amount\n",
    "    def display_details(self):\n",
    "        print(\"Name: %s \\n Number: %d \\n Balance: %d\"%(self.name,self.number,self.balance))\n",
    "\n",
    "a=Acount(\"jamoon\",101,1000)\n",
    "a.deposit(2000)\n",
    "a.display_details()\n",
    "print(a.__doc__)\n",
    "print(a.__dict__)\n",
    "print(a.__module__)"
   ]
  },
  {
   "cell_type": "code",
   "execution_count": 80,
   "metadata": {},
   "outputs": [
    {
     "name": "stdout",
     "output_type": "stream",
     "text": [
      "Name: jamoon \n",
      " Number: 101 \n",
      " Balance: 3000\n",
      "None\n",
      "{'name': 'jamoon', 'balance': 3000, 'number': 101}\n",
      "__main__\n"
     ]
    }
   ],
   "source": [
    "class Account:\n",
    "    total=100001\n",
    "    def __init__(self,name,number,balance=0):\n",
    "        self.name=name\n",
    "        self.balance=balance\n",
    "        self.number=number\n",
    "    def deposit(self,amount):\n",
    "        self.balance+=amount\n",
    "    def __str__(self):\n",
    "        return(\"Name: %s \\n Number: %d \\n Balance: %d\"%(self.name,self.number,self.balance))\n",
    "\n",
    "a=Account(\"jamoon\",101,1000)\n",
    "a.deposit(2000)\n",
    "print(a)\n",
    "print(a.__doc__)\n",
    "print(a.__dict__)\n",
    "print(a.__module__)"
   ]
  },
  {
   "cell_type": "markdown",
   "metadata": {},
   "source": [
    "Inheritance"
   ]
  },
  {
   "cell_type": "code",
   "execution_count": 81,
   "metadata": {},
   "outputs": [
    {
     "name": "stdout",
     "output_type": "stream",
     "text": [
      "Error:insufficient funds\n",
      "Name:Pratham \n",
      " Number:10001 \n",
      " balance:1500 \n",
      "\n",
      "Name:Thanga \n",
      " Number:10002 \n",
      " balance:0 \n",
      "\n"
     ]
    }
   ],
   "source": [
    "class Account:\n",
    "    total=10001\n",
    "    def __init__(self,name,balance=0):\n",
    "        self.name=name\n",
    "        self.balance=balance\n",
    "        self.number=Account.total\n",
    "        Account.total+=1\n",
    "    def deposit(self,amount):\n",
    "        if amount<0:\n",
    "            print(\"Error: Negative Input\")\n",
    "            return\n",
    "        self.balance+=amount\n",
    "    def withdraw(self,amount):\n",
    "        if amount<0:\n",
    "            print(\"Error:negative amount\")\n",
    "            return\n",
    "        if amount>self.balance:\n",
    "            print(\"Error:insufficient funds\")\n",
    "            return\n",
    "        self.balance-=amount\n",
    "    def __str__(self):\n",
    "        return(\"Name:%s \\n Number:%d \\n balance:%d \\n\"%(self.name,self.number,self.balance))\n",
    "\n",
    "a=Account(\"Pratham\",1300)\n",
    "a.deposit(200)\n",
    "a.withdraw(2000)\n",
    "print(a)\n",
    "b=Account(\"Thanga\")\n",
    "print(b)\n",
    "    "
   ]
  },
  {
   "cell_type": "markdown",
   "metadata": {},
   "source": [
    "Subclass"
   ]
  },
  {
   "cell_type": "code",
   "execution_count": 82,
   "metadata": {},
   "outputs": [],
   "source": [
    "class CreditAccount(Account):# CreditAccount is the sub-class of Account\n",
    "    pass"
   ]
  },
  {
   "cell_type": "code",
   "execution_count": 84,
   "metadata": {},
   "outputs": [],
   "source": [
    "a1=Account(\"john\")\n",
    "a2=CreditAccount(\"Marina\")\n",
    "a3=Account(\"Catherine\")"
   ]
  },
  {
   "cell_type": "code",
   "execution_count": 89,
   "metadata": {},
   "outputs": [
    {
     "name": "stdout",
     "output_type": "stream",
     "text": [
      "Name:john \n",
      " Number:10004 \n",
      " balance:0 \n",
      "\n"
     ]
    }
   ],
   "source": [
    "print(a1)"
   ]
  },
  {
   "cell_type": "markdown",
   "metadata": {},
   "source": [
    "Polymorphism"
   ]
  },
  {
   "cell_type": "code",
   "execution_count": 90,
   "metadata": {},
   "outputs": [
    {
     "name": "stdout",
     "output_type": "stream",
     "text": [
      "17\n",
      "6\n",
      "2\n"
     ]
    }
   ],
   "source": [
    "#inbuilt polymorphism functions\n",
    "print(len(\"Christ University\"))\n",
    "print(len([1,2,3,4,5,6]))\n",
    "print(len({\"a\":2,\"b\":2}))"
   ]
  },
  {
   "cell_type": "markdown",
   "metadata": {},
   "source": [
    "polymorphism in Functions"
   ]
  },
  {
   "cell_type": "code",
   "execution_count": 91,
   "metadata": {},
   "outputs": [
    {
     "name": "stdout",
     "output_type": "stream",
     "text": [
      "5\n",
      "9\n"
     ]
    }
   ],
   "source": [
    "def add(x,y,z=0):\n",
    "    return x+y+z\n",
    "\n",
    "print(add(2,3))\n",
    "print(add(2,3,4))"
   ]
  },
  {
   "cell_type": "markdown",
   "metadata": {},
   "source": [
    "polymorphism in Classes"
   ]
  },
  {
   "cell_type": "code",
   "execution_count": 94,
   "metadata": {},
   "outputs": [
    {
     "name": "stdout",
     "output_type": "stream",
     "text": [
      "MCA is a PG course\n",
      "MCA is a trimester program\n",
      "MCA-Master of Computer Applications\n",
      "BCA is a UG program\n",
      "BCA is a semester program\n",
      "BCA-Bachelors of Computer Applications\n"
     ]
    }
   ],
   "source": [
    "class PG():\n",
    "    def program(self):\n",
    "        return(\"MCA is a PG course\")\n",
    "    def semester(self):\n",
    "        return(\"MCA is a trimester program\")\n",
    "    def type(self):\n",
    "        return(\"MCA-Master of Computer Applications\")\n",
    "\n",
    "class UG():\n",
    "    def program(self):\n",
    "        return(\"BCA is a UG program\")\n",
    "    def semester(self):\n",
    "        return(\"BCA is a semester program\")\n",
    "    def type(self):\n",
    "        return(\"BCA-Bachelors of Computer Applications\")\n",
    "\n",
    "obj_PG=PG()\n",
    "obj_UG=UG()\n",
    "for graduate in (obj_PG,obj_UG):\n",
    "    print(graduate.program())\n",
    "    print(graduate.semester())\n",
    "    print(graduate.type())"
   ]
  }
 ],
 "metadata": {
  "kernelspec": {
   "display_name": "Python 3",
   "language": "python",
   "name": "python3"
  },
  "language_info": {
   "codemirror_mode": {
    "name": "ipython",
    "version": 3
   },
   "file_extension": ".py",
   "mimetype": "text/x-python",
   "name": "python",
   "nbconvert_exporter": "python",
   "pygments_lexer": "ipython3",
   "version": "3.10.11"
  },
  "orig_nbformat": 4
 },
 "nbformat": 4,
 "nbformat_minor": 2
}
