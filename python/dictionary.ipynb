{
 "cells": [
  {
   "cell_type": "markdown",
   "metadata": {},
   "source": [
    "Dictionary"
   ]
  },
  {
   "cell_type": "code",
   "execution_count": 28,
   "metadata": {},
   "outputs": [
    {
     "name": "stdout",
     "output_type": "stream",
     "text": [
      "{'Name': 'Nirupam', 'Status': True, 'Joined': 2022, 'Projects': ['MCA', 'MSC', 'MCOM']}\n",
      "<class 'dict'>\n"
     ]
    }
   ],
   "source": [
    "Emp={\n",
    "    \"Name\":\"Nirupam\",\n",
    "    \"Status\":True,\n",
    "    \"Joined\":2022,\n",
    "    \"Projects\":[\"MCA\",\"MSC\",\"MCOM\"]\n",
    "}\n",
    "print(Emp)\n",
    "print(type(Emp))\n"
   ]
  },
  {
   "cell_type": "markdown",
   "metadata": {},
   "source": [
    "Accessing the elements using the key "
   ]
  },
  {
   "cell_type": "code",
   "execution_count": 29,
   "metadata": {},
   "outputs": [
    {
     "name": "stdout",
     "output_type": "stream",
     "text": [
      "Nirupam\n",
      "['MCA', 'MSC', 'MCOM']\n"
     ]
    }
   ],
   "source": [
    "print(Emp[\"Name\"])\n",
    "print(Emp[\"Projects\"])"
   ]
  },
  {
   "cell_type": "markdown",
   "metadata": {},
   "source": [
    "Accessing the elements using the get function"
   ]
  },
  {
   "cell_type": "code",
   "execution_count": 30,
   "metadata": {},
   "outputs": [
    {
     "name": "stdout",
     "output_type": "stream",
     "text": [
      "2022\n"
     ]
    }
   ],
   "source": [
    "print(Emp.get(\"Joined\"))"
   ]
  },
  {
   "cell_type": "markdown",
   "metadata": {},
   "source": [
    "print the keys available in dictionary"
   ]
  },
  {
   "cell_type": "code",
   "execution_count": 31,
   "metadata": {},
   "outputs": [
    {
     "data": {
      "text/plain": [
       "dict_keys(['Name', 'Status', 'Joined', 'Projects'])"
      ]
     },
     "execution_count": 31,
     "metadata": {},
     "output_type": "execute_result"
    }
   ],
   "source": [
    "Emp.keys()"
   ]
  },
  {
   "cell_type": "markdown",
   "metadata": {},
   "source": [
    "Getting \"ID\" of the dictionary and \"ADDING\" new key value pair or changing the value of the key in dictionary"
   ]
  },
  {
   "cell_type": "code",
   "execution_count": 32,
   "metadata": {},
   "outputs": [
    {
     "name": "stdout",
     "output_type": "stream",
     "text": [
      "2131676794304\n",
      "{'Name': 'Nirupam', 'Status': True, 'Joined': 2022, 'Projects': ['MCA', 'MSC', 'MCOM'], 'place': 'Bangalore'}\n"
     ]
    }
   ],
   "source": [
    "print(id (Emp))\n",
    "Emp['place']=\"Bangalore\"\n",
    "print(Emp)"
   ]
  },
  {
   "cell_type": "markdown",
   "metadata": {},
   "source": [
    "Updating the key value in the dictionary"
   ]
  },
  {
   "cell_type": "code",
   "execution_count": 33,
   "metadata": {},
   "outputs": [
    {
     "name": "stdout",
     "output_type": "stream",
     "text": [
      "{'Name': 'Nirupam', 'Status': True, 'Joined': 2020, 'Projects': ['MCA', 'MSC', 'MCOM'], 'place': 'Bangalore'}\n"
     ]
    }
   ],
   "source": [
    "Emp['Joined']=2020\n",
    "print(Emp)"
   ]
  },
  {
   "cell_type": "markdown",
   "metadata": {},
   "source": [
    "updating using update function"
   ]
  },
  {
   "cell_type": "code",
   "execution_count": 34,
   "metadata": {},
   "outputs": [
    {
     "name": "stdout",
     "output_type": "stream",
     "text": [
      "{'Name': 'Nirupam', 'Status': False, 'Joined': 2020, 'Projects': ['MCA', 'MSC', 'MCOM'], 'place': 'Bangalore'}\n"
     ]
    }
   ],
   "source": [
    "Emp.update({\"Status\":False})\n",
    "print(Emp)"
   ]
  },
  {
   "cell_type": "markdown",
   "metadata": {},
   "source": [
    "Deleting a element in a dictionary"
   ]
  },
  {
   "cell_type": "code",
   "execution_count": 35,
   "metadata": {},
   "outputs": [
    {
     "name": "stdout",
     "output_type": "stream",
     "text": [
      "{'Name': 'Nirupam', 'Joined': 2020, 'Projects': ['MCA', 'MSC', 'MCOM'], 'place': 'Bangalore'}\n"
     ]
    }
   ],
   "source": [
    "Emp.pop(\"Status\")\n",
    "print(Emp)"
   ]
  },
  {
   "cell_type": "markdown",
   "metadata": {},
   "source": [
    "Deleting the entire dictionary or an element using \"del\""
   ]
  },
  {
   "cell_type": "code",
   "execution_count": 27,
   "metadata": {},
   "outputs": [
    {
     "name": "stdout",
     "output_type": "stream",
     "text": [
      "{'Name': 'Nirupam', 'Joined': 2020, 'Projects': ['MCA', 'MSC', 'MCOM']}\n",
      "{'Name': 'Nirupam', 'Joined': 2020, 'Projects': ['MCA', 'MSC', 'MCOM']}\n"
     ]
    }
   ],
   "source": [
    "del Emp[\"place\"]\n",
    "print(Emp)\n",
    "del Emp # this deletes the entire dictionary\n",
    "print(Emp)"
   ]
  },
  {
   "cell_type": "markdown",
   "metadata": {},
   "source": [
    "Accessing the \"Keys\" only in dictionary"
   ]
  },
  {
   "cell_type": "code",
   "execution_count": 37,
   "metadata": {},
   "outputs": [
    {
     "name": "stdout",
     "output_type": "stream",
     "text": [
      "Name\n",
      "Joined\n",
      "Projects\n",
      "place\n"
     ]
    }
   ],
   "source": [
    "for x in Emp:\n",
    "    print(x)"
   ]
  },
  {
   "cell_type": "markdown",
   "metadata": {},
   "source": [
    "Accessing all the \"values\" only in dictionary"
   ]
  },
  {
   "cell_type": "code",
   "execution_count": 38,
   "metadata": {},
   "outputs": [
    {
     "name": "stdout",
     "output_type": "stream",
     "text": [
      "Nirupam\n",
      "2020\n",
      "['MCA', 'MSC', 'MCOM']\n",
      "Bangalore\n"
     ]
    }
   ],
   "source": [
    "for x in Emp.values():\n",
    "    print(x)"
   ]
  },
  {
   "cell_type": "markdown",
   "metadata": {},
   "source": [
    "accessing each key with values"
   ]
  },
  {
   "cell_type": "code",
   "execution_count": 39,
   "metadata": {},
   "outputs": [
    {
     "name": "stdout",
     "output_type": "stream",
     "text": [
      "('Name', 'Nirupam')\n",
      "('Joined', 2020)\n",
      "('Projects', ['MCA', 'MSC', 'MCOM'])\n",
      "('place', 'Bangalore')\n"
     ]
    }
   ],
   "source": [
    "for x in Emp.items():\n",
    "    print(x)"
   ]
  },
  {
   "cell_type": "markdown",
   "metadata": {},
   "source": [
    "copying one dictionary to another dictionary"
   ]
  },
  {
   "cell_type": "code",
   "execution_count": 40,
   "metadata": {},
   "outputs": [
    {
     "name": "stdout",
     "output_type": "stream",
     "text": [
      "{'Name': 'Nirupam', 'Joined': 2020, 'Projects': ['MCA', 'MSC', 'MCOM'], 'place': 'Bangalore'}\n",
      "{'Name': 'Nirupam', 'Joined': 2020, 'Projects': ['MCA', 'MSC', 'MCOM'], 'place': 'Bangalore'}\n"
     ]
    }
   ],
   "source": [
    "#method-1 by using copy function, for this the source should be a dictionary for the variable to be a dictionary\n",
    "Emp1=Emp.copy()\n",
    "print(Emp1)\n",
    "#method-2 by using the dict, and converts the given values into a dictionary even if it is a string\n",
    "Emp2=dict(Emp)\n",
    "print(Emp2)"
   ]
  },
  {
   "cell_type": "markdown",
   "metadata": {},
   "source": [
    "passing dictionary values to the function"
   ]
  },
  {
   "cell_type": "code",
   "execution_count": 46,
   "metadata": {},
   "outputs": [
    {
     "name": "stdout",
     "output_type": "stream",
     "text": [
      "CHRIST UNIVERSITY\n",
      "CHRIST UNIVERSITY\n"
     ]
    }
   ],
   "source": [
    "def f(a,b):\n",
    "    return a + \" \" + b\n",
    "d={\"a\":\"CHRIST\",\"b\":\"UNIVERSITY\"} \n",
    "print(f(**d)) # the key values should be same as formal parameters\n",
    "print(f(d[\"a\"],d[\"b\"]))#this method can be used if Key is different than formal parameters"
   ]
  }
 ],
 "metadata": {
  "kernelspec": {
   "display_name": "Python 3",
   "language": "python",
   "name": "python3"
  },
  "language_info": {
   "codemirror_mode": {
    "name": "ipython",
    "version": 3
   },
   "file_extension": ".py",
   "mimetype": "text/x-python",
   "name": "python",
   "nbconvert_exporter": "python",
   "pygments_lexer": "ipython3",
   "version": "3.10.11"
  },
  "orig_nbformat": 4
 },
 "nbformat": 4,
 "nbformat_minor": 2
}
