{
 "cells": [
  {
   "cell_type": "markdown",
   "metadata": {},
   "source": [
    "import re # for regular expression\n",
    "findall(2) # returns a list of all occurances\n",
    "sub(3) # find and replace\n",
    "split(2) # split the string\n",
    "\n",
    "https://www.w3resource.com/python-exercises/re/"
   ]
  },
  {
   "cell_type": "code",
   "execution_count": null,
   "metadata": {},
   "outputs": [],
   "source": []
  }
 ],
 "metadata": {
  "language_info": {
   "name": "python"
  },
  "orig_nbformat": 4
 },
 "nbformat": 4,
 "nbformat_minor": 2
}
