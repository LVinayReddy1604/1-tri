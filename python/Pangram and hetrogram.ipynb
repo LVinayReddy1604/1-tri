{
 "cells": [
  {
   "cell_type": "code",
   "execution_count": null,
   "metadata": {},
   "outputs": [],
   "source": [
    "def check_pangram(string):\n",
    "    # Create a set of the characters in the string.\n",
    "    chars = set(string.lower())\n",
    "\n",
    "    # Check if the set contains all the letters of the alphabet.\n",
    "    alphabet = set(\"abcdefghijklmnopqrstuvwxyz\")\n",
    "    return chars == alphabet\n",
    "\n",
    "def check_heterogram(string):\n",
    "    # Create a set of the characters in the string.\n",
    "    chars = set(string.lower())\n",
    "\n",
    "    # Check if any character occurs more than once.\n",
    "    for char in chars:\n",
    "        if string.count(char) > 1:\n",
    "            return False\n",
    "\n",
    "    # If no character occurs more than once, the string is a heterogram.\n",
    "    return True\n",
    "\n",
    "# Get the input string.\n",
    "string = input(\"Enter a string: \")\n",
    "\n",
    "# Check if the string is a pangram.\n",
    "if check_pangram(string):\n",
    "    print(\"The string is a pangram.\")\n",
    "else:\n",
    "    print(\"The string is not a pangram.\")\n",
    "\n",
    "# Check if the string is a heterogram.\n",
    "if check_heterogram(string):\n",
    "    print(\"The string is a heterogram.\")\n",
    "else:\n",
    "    print(\"The string is not a heterogram.\")"
   ]
  }
 ],
 "metadata": {
  "language_info": {
   "name": "python"
  },
  "orig_nbformat": 4
 },
 "nbformat": 4,
 "nbformat_minor": 2
}
