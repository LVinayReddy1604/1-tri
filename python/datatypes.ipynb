{
 "cells": [
  {
   "cell_type": "markdown",
   "metadata": {},
   "source": [
    "Number System & bitwise operator"
   ]
  },
  {
   "cell_type": "code",
   "execution_count": null,
   "metadata": {},
   "outputs": [],
   "source": [
    "sets={1,2,3,4,5,6,7,8,9}\n",
    "lists=[1,2,3,4,5,6,7,8,9]\n",
    "tuples=(1,2,3,4,5,6,7,8,9)\n",
    "string=\"1,2,3,4,5,6,7,8,9\"\n",
    "dictionaries={\"1\":\"1\",\"2\":\"2\",\"3\":\"3\",\"4\":\"4\",\"5\":\"5\"}\n"
   ]
  },
  {
   "cell_type": "markdown",
   "metadata": {},
   "source": [
    "converting to binary"
   ]
  },
  {
   "cell_type": "code",
   "execution_count": 7,
   "metadata": {},
   "outputs": [
    {
     "name": "stdout",
     "output_type": "stream",
     "text": [
      "0b10000000\n",
      "0b1101\n",
      "0b1001\n",
      "0b1001\n",
      "0b1101\n",
      "0b100\n",
      "-14\n",
      "-0b1110\n",
      "26\n",
      "0b11010\n",
      "6\n",
      "0b110\n"
     ]
    }
   ],
   "source": [
    "a=0b1101\n",
    "b=0b1001\n",
    "bin(128)\n",
    "print(bin(128))\n",
    "print(bin(a))\n",
    "print(bin(b))\n",
    "print(bin(a&b))\n",
    "print(bin(a|b))\n",
    "print(bin(a^b))\n",
    "print(~a)\n",
    "print(bin(~a))\n",
    "print(a<<1) \n",
    "print(bin(a<<1))\n",
    "print(a>>1)\n",
    "print(bin(a>>1))"
   ]
  },
  {
   "cell_type": "markdown",
   "metadata": {},
   "source": [
    "converting to octal"
   ]
  },
  {
   "cell_type": "code",
   "execution_count": null,
   "metadata": {},
   "outputs": [],
   "source": [
    "a=0o1227\n",
    "oct(8)"
   ]
  },
  {
   "cell_type": "markdown",
   "metadata": {},
   "source": [
    "converting to hexdecimal"
   ]
  },
  {
   "cell_type": "code",
   "execution_count": null,
   "metadata": {},
   "outputs": [],
   "source": [
    "a=0x19cda\n",
    "hex(16)"
   ]
  }
 ],
 "metadata": {
  "kernelspec": {
   "display_name": "Python 3",
   "language": "python",
   "name": "python3"
  },
  "language_info": {
   "codemirror_mode": {
    "name": "ipython",
    "version": 3
   },
   "file_extension": ".py",
   "mimetype": "text/x-python",
   "name": "python",
   "nbconvert_exporter": "python",
   "pygments_lexer": "ipython3",
   "version": "3.10.11"
  },
  "orig_nbformat": 4
 },
 "nbformat": 4,
 "nbformat_minor": 2
}
