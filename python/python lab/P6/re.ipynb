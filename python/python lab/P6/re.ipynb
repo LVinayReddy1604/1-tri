{
 "cells": [
  {
   "cell_type": "code",
   "execution_count": 3,
   "metadata": {},
   "outputs": [
    {
     "name": "stdout",
     "output_type": "stream",
     "text": [
      "Some of the form input is invalid.\n"
     ]
    }
   ],
   "source": [
    "import re\n",
    "\n",
    "def validate_all_form_input(form_input):\n",
    "  \"\"\"Validates all of the form input.\n",
    "\n",
    "  Args:\n",
    "    form_input: A dictionary of form input, where the keys are the field names and the values are the input strings.\n",
    "\n",
    "  Returns:\n",
    "    True if all of the form input is valid, False otherwise.\n",
    "  \"\"\"\n",
    "\n",
    "  # Define regular expressions to validate each field type.\n",
    "  name_regex = r\"^[a-zA-Z]+\\.[a-zA-Z]+$\"\n",
    "  digits_regex = r\"^\\d+$\"\n",
    "  email_regex = r\"(^[a-zA-Z0-9_.+-]+@[a-zA-Z0-9-]+\\.[a-zA-Z0-9-.]+$)\"\n",
    "  date_of_birth_regex = r\"^\\d{2}-\\d{2}-\\d{4}$\"\n",
    "  payment_option_regex = r\"^(Visa|Mastercard|American Express|Pytm)$\"\n",
    "\n",
    "  # Validate each field in the form input.\n",
    "  for field_name, input_string in form_input.items():\n",
    "    if field_name == \"name\":\n",
    "      if not re.match(name_regex, input_string):\n",
    "        return False\n",
    "\n",
    "    elif field_name == \"register_number\" or field_name == \"phone_number\":\n",
    "      if not re.match(digits_regex, input_string):\n",
    "        return False\n",
    "\n",
    "    elif field_name == \"email\":\n",
    "      if not re.match(email_regex, input_string):\n",
    "        return False\n",
    "\n",
    "    elif field_name == \"date_of_birth\":\n",
    "      if not re.match(date_of_birth_regex, input_string):\n",
    "        return False\n",
    "\n",
    "    elif field_name == \"payment_option\":\n",
    "      if not re.match(payment_option_regex, input_string):\n",
    "        return False\n",
    "\n",
    "  # If all of the fields are valid, return True.\n",
    "  return True\n",
    "\n",
    "\n",
    "# Example usage:\n",
    "\n",
    "form_input = {\n",
    "  \"name\": \"John Doe\",\n",
    "  \"register_number\": \"1234567890\",\n",
    "  \"email\": \"john.doe@example.com\",\n",
    "  \"date_of_birth\": \"1990-01-01\",\n",
    "  \"payment_option\": \"Visa\"\n",
    "}\n",
    "\n",
    "if validate_all_form_input(form_input):\n",
    "  print(\"All of the form input is valid.\")\n",
    "else:\n",
    "  print(\"Some of the form input is invalid.\")"
   ]
  }
 ],
 "metadata": {
  "kernelspec": {
   "display_name": "Python 3",
   "language": "python",
   "name": "python3"
  },
  "language_info": {
   "codemirror_mode": {
    "name": "ipython",
    "version": 3
   },
   "file_extension": ".py",
   "mimetype": "text/x-python",
   "name": "python",
   "nbconvert_exporter": "python",
   "pygments_lexer": "ipython3",
   "version": "3.10.11"
  },
  "orig_nbformat": 4
 },
 "nbformat": 4,
 "nbformat_minor": 2
}
