{
 "cells": [
  {
   "cell_type": "code",
   "execution_count": 71,
   "metadata": {},
   "outputs": [
    {
     "name": "stdout",
     "output_type": "stream",
     "text": [
      "{1, 2, 3, 4, 5, 6, 7, 8, 9, 10}\n",
      "{1, 2, 3, 4, 6, 7, 8, 22}\n"
     ]
    }
   ],
   "source": [
    "a={1,2,3,4,5,6,7,8,9,10}\n",
    "b={1,4,2,6,7,4,2,8,3,1,22}\n",
    "print(a)\n",
    "print(b)"
   ]
  },
  {
   "cell_type": "markdown",
   "metadata": {},
   "source": [
    "1. Printing on the unique elements of both sets"
   ]
  },
  {
   "cell_type": "code",
   "execution_count": 72,
   "metadata": {},
   "outputs": [
    {
     "name": "stdout",
     "output_type": "stream",
     "text": [
      "Unique elements of both sets are  {9, 10, 5, 22}\n"
     ]
    }
   ],
   "source": [
    "inter=a.intersection(b)\n",
    "un=a.union(b)\n",
    "unique=un.difference(inter)\n",
    "print(\"Unique elements of both sets are \",unique)"
   ]
  },
  {
   "cell_type": "markdown",
   "metadata": {},
   "source": [
    "2. Set of elements prent is A or B"
   ]
  },
  {
   "cell_type": "code",
   "execution_count": 73,
   "metadata": {},
   "outputs": [
    {
     "name": "stdout",
     "output_type": "stream",
     "text": [
      "Elements present in only A  {9, 10, 5}\n",
      "Elements present in only B  {22}\n"
     ]
    }
   ],
   "source": [
    "print(\"Elements present in only A \",a.difference(b))\n",
    "print(\"Elements present in only B \",b.difference(a))"
   ]
  },
  {
   "cell_type": "markdown",
   "metadata": {},
   "source": [
    "3. common elements in both sets"
   ]
  },
  {
   "cell_type": "code",
   "execution_count": 74,
   "metadata": {},
   "outputs": [
    {
     "name": "stdout",
     "output_type": "stream",
     "text": [
      "Common elements in both sets are  {1, 2, 3, 4, 6, 7, 8}\n"
     ]
    }
   ],
   "source": [
    "print(\"Common elements in both sets are \", a.intersection(b))"
   ]
  },
  {
   "cell_type": "markdown",
   "metadata": {},
   "source": [
    "4. adding elements of A to B without the common items"
   ]
  },
  {
   "cell_type": "code",
   "execution_count": 75,
   "metadata": {},
   "outputs": [
    {
     "name": "stdout",
     "output_type": "stream",
     "text": [
      "Set B after adding elements of A which are not common to A  {1, 2, 3, 4, 5, 6, 7, 8, 9, 10, 22}\n"
     ]
    }
   ],
   "source": [
    "diflist=list(a.difference(b))\n",
    "c=b.copy()\n",
    "b.update(diflist)\n",
    "print(\"Set B after adding elements of A which are not common to A \",b)"
   ]
  },
  {
   "cell_type": "markdown",
   "metadata": {},
   "source": [
    "5. Creating list from set A & B"
   ]
  },
  {
   "cell_type": "code",
   "execution_count": 80,
   "metadata": {},
   "outputs": [
    {
     "name": "stdout",
     "output_type": "stream",
     "text": [
      "set A in list [1, 2, 3, 4, 5, 6, 7, 8, 9, 10]\n",
      "set B in list [1, 2, 3, 4, 6, 7, 8, 22]\n",
      "Set A and B together in list [1, 2, 3, 4, 5, 6, 7, 8, 9, 10, 1, 2, 3, 4, 6, 7, 8, 22]\n"
     ]
    }
   ],
   "source": [
    "b=c.copy()\n",
    "alist=list(a)\n",
    "blist=list(b)\n",
    "print(\"set A in list\", alist)\n",
    "print(\"set B in list\", blist)\n",
    "alist.extend(blist)\n",
    "print(\"Set A and B together in list\",alist)"
   ]
  }
 ],
 "metadata": {
  "kernelspec": {
   "display_name": "Python 3",
   "language": "python",
   "name": "python3"
  },
  "language_info": {
   "codemirror_mode": {
    "name": "ipython",
    "version": 3
   },
   "file_extension": ".py",
   "mimetype": "text/x-python",
   "name": "python",
   "nbconvert_exporter": "python",
   "pygments_lexer": "ipython3",
   "version": "3.10.11"
  }
 },
 "nbformat": 4,
 "nbformat_minor": 2
}
