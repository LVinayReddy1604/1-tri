{
 "cells": [
  {
   "cell_type": "markdown",
   "metadata": {},
   "source": [
    "Numpy\n"
   ]
  },
  {
   "cell_type": "code",
   "execution_count": 5,
   "metadata": {},
   "outputs": [
    {
     "name": "stdout",
     "output_type": "stream",
     "text": [
      "[1 2 3 4 5]\n",
      "5\n"
     ]
    }
   ],
   "source": [
    "import numpy as np\n",
    "Arr=np.array([1,2,3,4,5])\n",
    "print(Arr)\n",
    "print(len(Arr))"
   ]
  },
  {
   "cell_type": "code",
   "execution_count": 6,
   "metadata": {},
   "outputs": [
    {
     "name": "stdout",
     "output_type": "stream",
     "text": [
      "[28 11 13 23 86 28 32 69 11 91]\n"
     ]
    }
   ],
   "source": [
    "rand=np.random.RandomState(52)\n",
    "x=rand.randint(100,size=10)\n",
    "print(x)"
   ]
  },
  {
   "cell_type": "code",
   "execution_count": 8,
   "metadata": {},
   "outputs": [
    {
     "data": {
      "text/plain": [
       "array([23, 69, 86])"
      ]
     },
     "execution_count": 8,
     "metadata": {},
     "output_type": "execute_result"
    }
   ],
   "source": [
    "[x[3],x[7],x[2]]\n",
    "ind=[3,7,4]\n",
    "x[ind]\n"
   ]
  },
  {
   "cell_type": "code",
   "execution_count": 10,
   "metadata": {},
   "outputs": [
    {
     "name": "stdout",
     "output_type": "stream",
     "text": [
      "[[1 2 3]\n",
      " [4 5 6]]\n"
     ]
    }
   ],
   "source": [
    "ind=np.array([[1,2,3],\n",
    "             [4,5,6]])\n",
    "print(ind)"
   ]
  },
  {
   "cell_type": "code",
   "execution_count": 13,
   "metadata": {},
   "outputs": [
    {
     "name": "stdout",
     "output_type": "stream",
     "text": [
      "[3, 7, 4]\n",
      "[23 69 86]\n"
     ]
    }
   ],
   "source": [
    "print(ind)\n",
    "print(x[ind])"
   ]
  },
  {
   "cell_type": "code",
   "execution_count": 20,
   "metadata": {},
   "outputs": [
    {
     "name": "stdout",
     "output_type": "stream",
     "text": [
      "[[ 1  2  3]\n",
      " [11 22 33]]\n",
      "2\n",
      "Each item contains  4  bytes\n",
      "Array Size:  6\n",
      "Shape:  (2, 3)\n",
      "Each item is of the type  int32\n"
     ]
    }
   ],
   "source": [
    "x2=np.array([[1,2,3],[11,22,33]]) #MxN/NxM\n",
    "print(x2)\n",
    "print(x2.ndim) #dimension of the arry\n",
    "print(\"Each item contains \",x2.itemsize,\" bytes\")# size of each element\n",
    "print(\"Array Size: \",x2.size) # number of elements in the array\n",
    "print(\"Shape: \",x2.shape) # shape of th arrya 2x4 or 3x2\n",
    "print(\"Each item is of the type \",x2.dtype) # datatype"
   ]
  },
  {
   "cell_type": "code",
   "execution_count": 23,
   "metadata": {},
   "outputs": [
    {
     "name": "stdout",
     "output_type": "stream",
     "text": [
      "[12 24 36]\n",
      "\n",
      "\n",
      "[12 24 36]\n",
      "\n",
      "\n",
      "72\n"
     ]
    }
   ],
   "source": [
    "print(np.add.reduce(x2)) #column sum\n",
    "print(\"\\n\")\n",
    "print(sum(x2)) # column sum\n",
    "print(\"\\n\")\n",
    "print(np.sum(x2)) # sum of all elements in the array"
   ]
  },
  {
   "cell_type": "code",
   "execution_count": 31,
   "metadata": {},
   "outputs": [
    {
     "name": "stdout",
     "output_type": "stream",
     "text": [
      "Printing the original array:\n",
      "[[1 2]\n",
      " [3 4]\n",
      " [5 6]]\n",
      "Printing the array in reshape:\n",
      "[[1 2 3]\n",
      " [4 5 6]]\n"
     ]
    }
   ],
   "source": [
    "a=np.array([[1,2],[3,4],[5,6]])\n",
    "print(\"Printing the original array:\")\n",
    "print(a)\n",
    "print(\"Printing the array in reshape:\")\n",
    "print(a.reshape(2,3)) #6- 2x3 / 3x2"
   ]
  },
  {
   "cell_type": "code",
   "execution_count": null,
   "metadata": {},
   "outputs": [
    {
     "name": "stdout",
     "output_type": "stream",
     "text": [
      "[ 0  1  2  3  4  5  6  7  8  9 10 11]\n",
      "[[ 0  1  2  3]\n",
      " [ 4  5  6  7]\n",
      " [ 8  9 10 11]]\n",
      "[ 8  9 10 11]\n",
      "[6 4 7]\n"
     ]
    }
   ],
   "source": [
    "a=np.arange(12) # 12- 2x6, 6x2, 3x4, 4x3, 12x1, 1x12\n",
    "print(a)\n",
    "a=np.arange(12).reshape(3,4)\n",
    "print(a)\n",
    "print(a[2])\n",
    "print(a[1,[2,0,3]])"
   ]
  },
  {
   "cell_type": "code",
   "execution_count": 51,
   "metadata": {},
   "outputs": [
    {
     "name": "stdout",
     "output_type": "stream",
     "text": [
      "[[ 5  6]\n",
      " [ 9 10]]\n"
     ]
    }
   ],
   "source": [
    "x=a[1,[1,2]]\n",
    "y=a[2,[1,2]]\n",
    "submat_a=np.array([x,y])\n",
    "print(submat_a)"
   ]
  },
  {
   "cell_type": "code",
   "execution_count": 56,
   "metadata": {},
   "outputs": [
    {
     "name": "stdout",
     "output_type": "stream",
     "text": [
      "The array is:\n",
      " [[ 0  1  2  3]\n",
      " [ 4  5  6  7]\n",
      " [ 8  9 10 11]]\n",
      "\n",
      " The maximum element:  11\n",
      "\n",
      " The minumum element:  0\n",
      "\n",
      " The sum of all the element:  66\n",
      "\n",
      " The maximum element of column :  [ 8  9 10 11]\n",
      "\n",
      " The miniumum element of row :  [0 4 8]\n",
      "\n",
      " The Row sum:  [ 6 22 38]\n",
      "\n",
      " The Column sum:  [12 15 18 21]\n",
      "\n",
      " The square root of Array elements: \n",
      " [[0.         1.         1.41421356 1.73205081]\n",
      " [2.         2.23606798 2.44948974 2.64575131]\n",
      " [2.82842712 3.         3.16227766 3.31662479]]\n",
      "\n",
      " The standard deviation of Array elements \n",
      " 3.452052529534663\n",
      "\n",
      " The Average of array is:  5.5\n"
     ]
    }
   ],
   "source": [
    "print(\"The array is:\\n\",a) #array\n",
    "print(\"\\n The maximum element: \",a.max()) #max value in an array\n",
    "print(\"\\n The minumum element: \",a.min())  #minimum value in the array\n",
    "print(\"\\n The sum of all the element: \",a.sum()) #sum of all the numbers sum(a), a.sum()\n",
    "print(\"\\n The maximum element of column : \",a.max(axis=0)) # maximum row=1\n",
    "print(\"\\n The miniumum element of row : \",a.min(axis=1)) #minimum column=0\n",
    "print(\"\\n The Row sum: \",a.sum(axis=1)) #row sum\n",
    "print(\"\\n The Column sum: \",a.sum(axis=0)) #column sum\n",
    "print(\"\\n The square root of Array elements: \\n\",np.sqrt(a)) # sruare root of all numbers\n",
    "print(\"\\n The standard deviation of Array elements \\n\",np.std(a)) #standard deviation of each number\n",
    "print(\"\\n The Average of array is: \",np.average(a)) # avergae of the array"
   ]
  },
  {
   "cell_type": "markdown",
   "metadata": {},
   "source": [
    "Arithematic operation on 2d array"
   ]
  },
  {
   "cell_type": "code",
   "execution_count": 58,
   "metadata": {},
   "outputs": [
    {
     "name": "stdout",
     "output_type": "stream",
     "text": [
      "Array a: \n",
      " [[ 1  2 30]\n",
      " [10 15  4]]\n",
      "Array b: \n",
      " [[ 1  2  3]\n",
      " [12 19 29]]\n",
      "product of the Matrices:\n",
      " [[  1   4  90]\n",
      " [120 285 116]]\n",
      "Division of array a and b: \n",
      " [[ 1.          1.         10.        ]\n",
      " [ 0.83333333  0.78947368  0.13793103]]\n",
      "scalar multiplication of a and b: \n",
      " [[ 3  6 90]\n",
      " [30 45 12]]\n"
     ]
    }
   ],
   "source": [
    "a=np.array([[1,2,30],[10,15,4]])\n",
    "print(\"Array a: \\n\",a)\n",
    "b=np.array([[1,2,3],[12,19,29]])\n",
    "print(\"Array b: \\n\",b)\n",
    "print(\"Sum of the Matrices:\\n\",a+b)\n",
    "print(\"product of the Matrices:\\n\",a*b) # incorrent multiplication due to MxN == NxM\n",
    "print(\"Division of array a and b: \\n\",a/b)\n",
    "print(\"scalar multiplication of a and b: \\n\",a*3)\n",
    "\n"
   ]
  },
  {
   "cell_type": "markdown",
   "metadata": {},
   "source": [
    "Concatenate arrays"
   ]
  },
  {
   "cell_type": "code",
   "execution_count": 59,
   "metadata": {},
   "outputs": [
    {
     "name": "stdout",
     "output_type": "stream",
     "text": [
      "Array a\n",
      " [[ 1  2 30]\n",
      " [10 15  4]] \n",
      " Array b\n",
      " [[ 1  2  3]\n",
      " [12 19 29]]\n",
      "Arrays vertically concatenated\n",
      " [[ 1  2 30]\n",
      " [10 15  4]\n",
      " [ 1  2  3]\n",
      " [12 19 29]]\n",
      "Arrays horizontal concatenated\n",
      " [[ 1  2 30  1  2  3]\n",
      " [10 15  4 12 19 29]]\n"
     ]
    }
   ],
   "source": [
    "print(\"Array a\\n {} \\n Array b\\n {}\".format(a,b))\n",
    "print(\"Arrays vertically concatenated\\n\",np.vstack((a,b)))\n",
    "print(\"Arrays horizontal concatenated\\n\",np.hstack((a,b)))"
   ]
  }
 ],
 "metadata": {
  "kernelspec": {
   "display_name": "Python 3",
   "language": "python",
   "name": "python3"
  },
  "language_info": {
   "codemirror_mode": {
    "name": "ipython",
    "version": 3
   },
   "file_extension": ".py",
   "mimetype": "text/x-python",
   "name": "python",
   "nbconvert_exporter": "python",
   "pygments_lexer": "ipython3",
   "version": "3.10.11"
  },
  "orig_nbformat": 4
 },
 "nbformat": 4,
 "nbformat_minor": 2
}
