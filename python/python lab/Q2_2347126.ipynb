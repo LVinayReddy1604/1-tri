{
 "cells": [
  {
   "cell_type": "markdown",
   "metadata": {},
   "source": [
    "LISTS"
   ]
  },
  {
   "cell_type": "markdown",
   "metadata": {},
   "source": [
    "Is the given list divisible by 3 or NOT?"
   ]
  },
  {
   "cell_type": "code",
   "execution_count": 18,
   "metadata": {},
   "outputs": [
    {
     "name": "stdout",
     "output_type": "stream",
     "text": [
      "Employee Ids which are in 3rd frequency positions :  [70, 2, 95, 44, 23, 80, 100]\n",
      "Employee Ids which are not in 3rd frequency positions:  [58, 86, 17, 83, 34, 73, 65, 100, 2, 44, 8, 85]\n"
     ]
    }
   ],
   "source": [
    "import random\n",
    "empid=[]\n",
    "isin3=[]\n",
    "isnotin3=[]\n",
    "for i in range (1,20):\n",
    "    empid.append(random.randint(1,100))\n",
    "i=0\n",
    "for j in empid:\n",
    "    if i%3==0:\n",
    "        isin3.append(j)\n",
    "    else:\n",
    "        isnotin3.append(j)\n",
    "    i=i+1\n",
    "\n",
    "print(\"Employee Ids which are in 3rd frequency positions : \", isin3)\n",
    "print(\"Employee Ids which are not in 3rd frequency positions: \", isnotin3)"
   ]
  },
  {
   "cell_type": "markdown",
   "metadata": {},
   "source": [
    "Square of even numbers in a list"
   ]
  },
  {
   "cell_type": "code",
   "execution_count": 13,
   "metadata": {},
   "outputs": [
    {
     "name": "stdout",
     "output_type": "stream",
     "text": [
      "The square of even Id's is : [2304, 10000, 3844, 8464, 400, 9216, 2304, 5184, 576, 2304]\n"
     ]
    }
   ],
   "source": [
    "squares=[]\n",
    "for i in empid:\n",
    "    if i%2==0:\n",
    "        squares.append(i**2)\n",
    "print(\"The square of even Id's is :\", squares)"
   ]
  },
  {
   "cell_type": "markdown",
   "metadata": {},
   "source": [
    "Sum of digits of all EVEN numbers in a list"
   ]
  },
  {
   "cell_type": "code",
   "execution_count": 14,
   "metadata": {},
   "outputs": [
    {
     "name": "stdout",
     "output_type": "stream",
     "text": [
      "Sum of all even numbers is:  610\n"
     ]
    }
   ],
   "source": [
    "sum=0\n",
    "for i in empid:\n",
    "    if i%2==0:\n",
    "        sum+=i\n",
    "print(\"Sum of all even numbers is: \", sum)"
   ]
  },
  {
   "cell_type": "markdown",
   "metadata": {},
   "source": [
    "Remove duplicate numbers in a list"
   ]
  },
  {
   "cell_type": "code",
   "execution_count": 15,
   "metadata": {},
   "outputs": [
    {
     "name": "stdout",
     "output_type": "stream",
     "text": [
      "The list with no duplicate values is:  [61, 48, 100, 77, 73, 62, 92, 79, 20, 35, 59, 33, 96, 39, 72, 24, 51]\n"
     ]
    }
   ],
   "source": [
    "noduplicateid=[]\n",
    "for i in empid:\n",
    "    if i not in noduplicateid:\n",
    "        noduplicateid.append(i)\n",
    "print(\"The list with no duplicate values is: \",noduplicateid)\n"
   ]
  },
  {
   "cell_type": "markdown",
   "metadata": {},
   "source": [
    "2. Dictionary\n",
    "Create a dictionary to store the details of your company employees (name as key and\n",
    "birthdate as value).\n",
    "{ ‘Virat Kohli’: ‘5 November 1988’, ‘Umesh Yadav’: ‘25 October 1987’, ‘Manish Pandey’:\n",
    "‘10 September 1989’, ‘Rohit Sharma’: ‘30 April 1987’, ‘Ravindra Jadeja’: ‘6 December\n",
    "1988’, ‘Hardik Pandya’: ‘11 October 1993’ }\n",
    "Write a function birthDate() that takes the full name of your employees(as a string) and\n",
    "displays the given employee’s birthdate."
   ]
  },
  {
   "cell_type": "code",
   "execution_count": 19,
   "metadata": {},
   "outputs": [
    {
     "name": "stdout",
     "output_type": "stream",
     "text": [
      "25 October 1987\n"
     ]
    }
   ],
   "source": [
    "DOB={ \"Virat Kohli\": \"5 November 1988\", \"Umesh Yadav\": \"25 October 1987\", \"Manish Pandey\": \"10 September 1989\", \"Rohit Sharma\": \"30 April 1987\", \"Ravindra Jadeja\": \"6 December 1988\", \"Hardik Pandya\": \"11 October 1993\" }\n",
    "def birthDate(name): \n",
    "    print(DOB.get(\"\"+name+\"\"))\n",
    "\n",
    "name=input(\"enter the name of the employee\")\n",
    "birthDate(name)"
   ]
  }
 ],
 "metadata": {
  "kernelspec": {
   "display_name": "Python 3",
   "language": "python",
   "name": "python3"
  },
  "language_info": {
   "codemirror_mode": {
    "name": "ipython",
    "version": 3
   },
   "file_extension": ".py",
   "mimetype": "text/x-python",
   "name": "python",
   "nbconvert_exporter": "python",
   "pygments_lexer": "ipython3",
   "version": "3.10.11"
  },
  "orig_nbformat": 4
 },
 "nbformat": 4,
 "nbformat_minor": 2
}
