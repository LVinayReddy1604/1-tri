{
 "cells": [
  {
   "cell_type": "markdown",
   "metadata": {},
   "source": [
    "Pandas"
   ]
  },
  {
   "cell_type": "code",
   "execution_count": 1,
   "metadata": {},
   "outputs": [
    {
     "name": "stdout",
     "output_type": "stream",
     "text": [
      "2    0.25\n",
      "2    1.00\n",
      "dtype: float64\n"
     ]
    }
   ],
   "source": [
    "import pandas as pd\n",
    "\n",
    "data=pd.Series([ 0.25 , 0.5 , 0.75 , 1.0 ],index=[2,7,5,2])\n",
    "# print(data.values)\n",
    "# print(data.index)\n",
    "# print(data[1])\n",
    "# print(data[1:3])\n",
    "print(data[2])\n",
    "# print(data[0])"
   ]
  },
  {
   "cell_type": "markdown",
   "metadata": {},
   "source": [
    "creating dataframe susing dict or List"
   ]
  },
  {
   "cell_type": "code",
   "execution_count": 2,
   "metadata": {},
   "outputs": [
    {
     "data": {
      "text/html": [
       "<div>\n",
       "<style scoped>\n",
       "    .dataframe tbody tr th:only-of-type {\n",
       "        vertical-align: middle;\n",
       "    }\n",
       "\n",
       "    .dataframe tbody tr th {\n",
       "        vertical-align: top;\n",
       "    }\n",
       "\n",
       "    .dataframe thead th {\n",
       "        text-align: right;\n",
       "    }\n",
       "</style>\n",
       "<table border=\"1\" class=\"dataframe\">\n",
       "  <thead>\n",
       "    <tr style=\"text-align: right;\">\n",
       "      <th></th>\n",
       "      <th>population</th>\n",
       "      <th>area</th>\n",
       "    </tr>\n",
       "  </thead>\n",
       "  <tbody>\n",
       "    <tr>\n",
       "      <th>california</th>\n",
       "      <td>38332521</td>\n",
       "      <td>423967</td>\n",
       "    </tr>\n",
       "    <tr>\n",
       "      <th>texas</th>\n",
       "      <td>29332521</td>\n",
       "      <td>673967</td>\n",
       "    </tr>\n",
       "    <tr>\n",
       "      <th>new york</th>\n",
       "      <td>38332533</td>\n",
       "      <td>124967</td>\n",
       "    </tr>\n",
       "  </tbody>\n",
       "</table>\n",
       "</div>"
      ],
      "text/plain": [
       "            population    area\n",
       "california    38332521  423967\n",
       "texas         29332521  673967\n",
       "new york      38332533  124967"
      ]
     },
     "execution_count": 2,
     "metadata": {},
     "output_type": "execute_result"
    }
   ],
   "source": [
    "#Creating DataFrame using DICT OR KIST\n",
    "lst1=[38332521,423967]\n",
    "lst2=[29332521,673967]\n",
    "lst4=[38332533,124967]\n",
    "pd.DataFrame([lst1,lst2,lst4],index=[\"california\",\"texas\",\"new york\"],columns=['population','area'])"
   ]
  },
  {
   "cell_type": "code",
   "execution_count": 3,
   "metadata": {},
   "outputs": [
    {
     "data": {
      "text/html": [
       "<div>\n",
       "<style scoped>\n",
       "    .dataframe tbody tr th:only-of-type {\n",
       "        vertical-align: middle;\n",
       "    }\n",
       "\n",
       "    .dataframe tbody tr th {\n",
       "        vertical-align: top;\n",
       "    }\n",
       "\n",
       "    .dataframe thead th {\n",
       "        text-align: right;\n",
       "    }\n",
       "</style>\n",
       "<table border=\"1\" class=\"dataframe\">\n",
       "  <thead>\n",
       "    <tr style=\"text-align: right;\">\n",
       "      <th></th>\n",
       "      <th>Color</th>\n",
       "      <th>count</th>\n",
       "    </tr>\n",
       "  </thead>\n",
       "  <tbody>\n",
       "    <tr>\n",
       "      <th>Mango</th>\n",
       "      <td>Yellow</td>\n",
       "      <td>50</td>\n",
       "    </tr>\n",
       "    <tr>\n",
       "      <th>Apple</th>\n",
       "      <td>Red</td>\n",
       "      <td>25</td>\n",
       "    </tr>\n",
       "    <tr>\n",
       "      <th>Orange</th>\n",
       "      <td>Orange</td>\n",
       "      <td>90</td>\n",
       "    </tr>\n",
       "  </tbody>\n",
       "</table>\n",
       "</div>"
      ],
      "text/plain": [
       "         Color count\n",
       "Mango   Yellow    50\n",
       "Apple      Red    25\n",
       "Orange  Orange    90"
      ]
     },
     "execution_count": 3,
     "metadata": {},
     "output_type": "execute_result"
    }
   ],
   "source": [
    "list1=['Yellow','50']\n",
    "list2=['Red','25']\n",
    "list3=['Orange','90']\n",
    "pd.DataFrame([list1,list2,list3], index=['Mango','Apple','Orange'], columns=['Color','count'])\n"
   ]
  },
  {
   "cell_type": "code",
   "execution_count": 4,
   "metadata": {},
   "outputs": [
    {
     "name": "stdout",
     "output_type": "stream",
     "text": [
      "            population  area\n",
      "California    32783289  2378\n",
      "New York      32783289  2378\n",
      "Texas         32783289  2378\n"
     ]
    }
   ],
   "source": [
    "population_dict={\"California\":32783289,\n",
    "                 \"New York\":32783289,\n",
    "                 \"Texas\":32783289}\n",
    "\n",
    "area_dict={\"California\":2378,\n",
    "           \"New York\":2378,\n",
    "           \"Texas\":2378}\n",
    "\n",
    "states=pd.DataFrame({'population': population_dict, 'area': area_dict})\n",
    "print (states)"
   ]
  },
  {
   "cell_type": "code",
   "execution_count": 5,
   "metadata": {},
   "outputs": [
    {
     "name": "stdout",
     "output_type": "stream",
     "text": [
      "DataFrame Row names \n",
      " Index(['California', 'New York', 'Texas'], dtype='object')\n",
      "DataFrame Columns Names \n",
      " Index(['population', 'area'], dtype='object')\n"
     ]
    }
   ],
   "source": [
    "print(\"DataFrame Row names \\n\", states.index)\n",
    "print(\"DataFrame Columns Names \\n\",states.columns)"
   ]
  },
  {
   "cell_type": "code",
   "execution_count": 6,
   "metadata": {},
   "outputs": [
    {
     "name": "stdout",
     "output_type": "stream",
     "text": [
      "       name         city  age  py-score\n",
      "101  Xavier  Maxico City   41      88.0\n",
      "102     Ann      Toronto   28      79.0\n",
      "103    Jana       Prague   33      81.0\n",
      "104      Yi     Shanghai   34      80.0\n",
      "105   Robin   Manchester   38      68.0\n",
      "106    Amal        Cairo   31      61.0\n",
      "107    Nori        Osaka   37      84.0\n",
      "\n",
      "\n",
      "name          Jana\n",
      "city        Prague\n",
      "age             33\n",
      "py-score      81.0\n",
      "Name: 103, dtype: object\n",
      "\n",
      "\n",
      "101    Maxico City\n",
      "102        Toronto\n",
      "103         Prague\n",
      "104       Shanghai\n",
      "105     Manchester\n",
      "106          Cairo\n",
      "107          Osaka\n",
      "Name: city, dtype: object\n",
      "\n",
      "\n",
      "101    Xavier\n",
      "102       Ann\n",
      "103      Jana\n",
      "104        Yi\n",
      "105     Robin\n",
      "106      Amal\n",
      "107      Nori\n",
      "Name: name, dtype: object\n"
     ]
    }
   ],
   "source": [
    "l1=[\"Xavier\",\"Maxico City\", 41,88.0]\n",
    "l2=[\"Ann\",\"Toronto\", 28,79.0]\n",
    "l3=[\"Jana\",\"Prague\", 33,81.0]\n",
    "l4=[\"Yi\",\"Shanghai\", 34,80.0]\n",
    "l5=[\"Robin\",\"Manchester\", 38,68.0]\n",
    "l6=[\"Amal\",\"Cairo\", 31,61.0]\n",
    "l7=[\"Nori\",\"Osaka\", 37,84.0]\n",
    "data=pd.DataFrame([l1,l2,l3,l4,l5,l6,l7],index=[101,102,103,104,105,106,107],columns=[\"name\",\"city\",\"age\",\"py-score\"])\n",
    "print(data)\n",
    "print(\"\\n\")\n",
    "print(data.loc[103])\n",
    "print(\"\\n\")\n",
    "print(data['city'])\n",
    "print(\"\\n\")\n",
    "print(data.name)"
   ]
  },
  {
   "cell_type": "markdown",
   "metadata": {},
   "source": [
    "Hierarical indexing"
   ]
  },
  {
   "cell_type": "code",
   "execution_count": 7,
   "metadata": {},
   "outputs": [
    {
     "data": {
      "text/html": [
       "<div>\n",
       "<style scoped>\n",
       "    .dataframe tbody tr th:only-of-type {\n",
       "        vertical-align: middle;\n",
       "    }\n",
       "\n",
       "    .dataframe tbody tr th {\n",
       "        vertical-align: top;\n",
       "    }\n",
       "\n",
       "    .dataframe thead th {\n",
       "        text-align: right;\n",
       "    }\n",
       "</style>\n",
       "<table border=\"1\" class=\"dataframe\">\n",
       "  <thead>\n",
       "    <tr style=\"text-align: right;\">\n",
       "      <th></th>\n",
       "      <th>0</th>\n",
       "    </tr>\n",
       "  </thead>\n",
       "  <tbody>\n",
       "    <tr>\n",
       "      <th>(california, 2000)</th>\n",
       "      <td>33232323</td>\n",
       "    </tr>\n",
       "    <tr>\n",
       "      <th>(california, 2010)</th>\n",
       "      <td>34231233</td>\n",
       "    </tr>\n",
       "    <tr>\n",
       "      <th>(New_York, 2000)</th>\n",
       "      <td>33232323</td>\n",
       "    </tr>\n",
       "    <tr>\n",
       "      <th>(New_York, 2010)</th>\n",
       "      <td>34231233</td>\n",
       "    </tr>\n",
       "    <tr>\n",
       "      <th>(Texas, 2000)</th>\n",
       "      <td>33232323</td>\n",
       "    </tr>\n",
       "    <tr>\n",
       "      <th>(Texas, 2010)</th>\n",
       "      <td>34231233</td>\n",
       "    </tr>\n",
       "  </tbody>\n",
       "</table>\n",
       "</div>"
      ],
      "text/plain": [
       "                           0\n",
       "(california, 2000)  33232323\n",
       "(california, 2010)  34231233\n",
       "(New_York, 2000)    33232323\n",
       "(New_York, 2010)    34231233\n",
       "(Texas, 2000)       33232323\n",
       "(Texas, 2010)       34231233"
      ]
     },
     "execution_count": 7,
     "metadata": {},
     "output_type": "execute_result"
    }
   ],
   "source": [
    "hindex=[('california',2000),('california',2010),\n",
    "       ('New_York',2000),('New_York',2010),\n",
    "       ('Texas',2000),('Texas',2010)]\n",
    "population=[33232323,34231233,\n",
    "            33232323,34231233,\n",
    "            33232323,34231233,]\n",
    "pop=pd.DataFrame(population,index=hindex)\n",
    "pop\n",
    "# pop[[i for i in pop.index if i[1]==2010]]"
   ]
  },
  {
   "cell_type": "code",
   "execution_count": 8,
   "metadata": {},
   "outputs": [
    {
     "ename": "NameError",
     "evalue": "name 'none' is not defined",
     "output_type": "error",
     "traceback": [
      "\u001b[1;31m---------------------------------------------------------------------------\u001b[0m",
      "\u001b[1;31mNameError\u001b[0m                                 Traceback (most recent call last)",
      "\u001b[1;32mc:\\Users\\91939\\Desktop\\1st-MCA\\python\\pandas.ipynb Cell 11\u001b[0m line \u001b[0;36m3\n\u001b[0;32m      <a href='vscode-notebook-cell:/c%3A/Users/91939/Desktop/1st-MCA/python/pandas.ipynb#X13sZmlsZQ%3D%3D?line=0'>1</a>\u001b[0m \u001b[39m# Missing values \u001b[39;00m\n\u001b[0;32m      <a href='vscode-notebook-cell:/c%3A/Users/91939/Desktop/1st-MCA/python/pandas.ipynb#X13sZmlsZQ%3D%3D?line=1'>2</a>\u001b[0m \u001b[39mimport\u001b[39;00m \u001b[39mnumpy\u001b[39;00m \u001b[39mas\u001b[39;00m \u001b[39mnp\u001b[39;00m\n\u001b[1;32m----> <a href='vscode-notebook-cell:/c%3A/Users/91939/Desktop/1st-MCA/python/pandas.ipynb#X13sZmlsZQ%3D%3D?line=2'>3</a>\u001b[0m vals1\u001b[39m=\u001b[39mnp\u001b[39m.\u001b[39marray([\u001b[39m1\u001b[39m,none,\u001b[39m3\u001b[39m,\u001b[39m4\u001b[39m])\n\u001b[0;32m      <a href='vscode-notebook-cell:/c%3A/Users/91939/Desktop/1st-MCA/python/pandas.ipynb#X13sZmlsZQ%3D%3D?line=3'>4</a>\u001b[0m vals1\u001b[39m.\u001b[39msum()\n",
      "\u001b[1;31mNameError\u001b[0m: name 'none' is not defined"
     ]
    }
   ],
   "source": [
    "# Missing values \n",
    "import numpy as np\n",
    "vals1=np.array([1,none,3,4])\n",
    "vals1.sum()"
   ]
  },
  {
   "cell_type": "code",
   "execution_count": null,
   "metadata": {},
   "outputs": [
    {
     "name": "stdout",
     "output_type": "stream",
     "text": [
      "nan nan nan\n"
     ]
    }
   ],
   "source": [
    "vals2=np.array([1,np.nan,3,4])\n",
    "vals2.dtype\n",
    "print(vals2.sum(),vals2.min(),vals2.max())"
   ]
  },
  {
   "cell_type": "code",
   "execution_count": null,
   "metadata": {},
   "outputs": [
    {
     "name": "stdout",
     "output_type": "stream",
     "text": [
      "0    False\n",
      "1     True\n",
      "2    False\n",
      "3    False\n",
      "dtype: bool\n",
      "0     True\n",
      "1    False\n",
      "2     True\n",
      "3     True\n",
      "dtype: bool\n",
      "0    1.0\n",
      "2    3.0\n",
      "3    4.0\n",
      "dtype: float64\n",
      "0     1.0\n",
      "1    10.0\n",
      "2     3.0\n",
      "3     4.0\n",
      "dtype: float64\n",
      "0    1.0\n",
      "1    1.0\n",
      "2    3.0\n",
      "3    4.0\n",
      "dtype: float64\n",
      "0    1.0\n",
      "1    3.0\n",
      "2    3.0\n",
      "3    4.0\n",
      "dtype: float64\n"
     ]
    },
    {
     "name": "stderr",
     "output_type": "stream",
     "text": [
      "C:\\Users\\91939\\AppData\\Local\\Temp\\ipykernel_17872\\524106717.py:7: FutureWarning: Series.fillna with 'method' is deprecated and will raise in a future version. Use obj.ffill() or obj.bfill() instead.\n",
      "  print(pdvals2.fillna(method='ffill'))# forward fill to propagate the previous value\n",
      "C:\\Users\\91939\\AppData\\Local\\Temp\\ipykernel_17872\\524106717.py:8: FutureWarning: Series.fillna with 'method' is deprecated and will raise in a future version. Use obj.ffill() or obj.bfill() instead.\n",
      "  print(pdvals2.fillna(method=\"bfill\"))# backward fill to propagate the next value\n"
     ]
    }
   ],
   "source": [
    "import pandas as pd\n",
    "pdvals2=pd.Series(vals2)\n",
    "print(pdvals2.isnull())\n",
    "print(pdvals2.notnull())\n",
    "print(pdvals2.dropna())\n",
    "print(pdvals2.fillna(10))\n",
    "print(pdvals2.fillna(method='ffill'))# forward fill to propagate the previous value\n",
    "print(pdvals2.fillna(method=\"bfill\"))# backward fill to propagate the next value"
   ]
  },
  {
   "cell_type": "markdown",
   "metadata": {},
   "source": [
    "Working with excel files .csv files"
   ]
  },
  {
   "cell_type": "code",
   "execution_count": null,
   "metadata": {},
   "outputs": [
    {
     "name": "stdout",
     "output_type": "stream",
     "text": [
      "   order                    name  height(cm)\n",
      "0      1       George Washington       189.0\n",
      "1      2              John Adams       170.0\n",
      "2      3        Thomas Jefferson       189.0\n",
      "3      4           James Madison       163.0\n",
      "4      5            James Monroe         NaN\n",
      "5      6       John Quincy Adams       171.0\n",
      "6      7          Andrew Jackson         NaN\n",
      "7      8        Martin Van Buren       168.0\n",
      "8      9  William Henry Harrison       173.0\n",
      "9     10              John Tyler       183.0\n",
      "    order                    name  height(cm)\n",
      "0       1       George Washington       189.0\n",
      "1       2              John Adams       170.0\n",
      "2       3        Thomas Jefferson       189.0\n",
      "3       4           James Madison       163.0\n",
      "5       6       John Quincy Adams       171.0\n",
      "7       8        Martin Van Buren       168.0\n",
      "8       9  William Henry Harrison       173.0\n",
      "9      10              John Tyler       183.0\n",
      "11     12          Zachary Taylor       173.0\n",
      "12     13        Millard Fillmore       175.0\n",
      "13     14         Franklin Pierce       178.0\n",
      "14     15          James Buchanan       183.0\n",
      "15     16         Abraham Lincoln       193.0\n",
      "17     18        Ulysses S. Grant       173.0\n",
      "18     19     Rutherford B. Hayes       174.0\n",
      "19     20       James A. Garfield       183.0\n",
      "20     21       Chester A. Arthur       183.0\n",
      "21     23       Benjamin Harrison       168.0\n",
      "22     25        William McKinley       170.0\n",
      "23     26      Theodore Roosevelt       178.0\n",
      "24     27     William Howard Taft       182.0\n",
      "25     28          Woodrow Wilson       180.0\n",
      "26     29       Warren G. Harding       183.0\n",
      "27     30         Calvin Coolidge       178.0\n",
      "28     31          Herbert Hoover       182.0\n",
      "29     32   Franklin D. Roosevelt       188.0\n",
      "30     33         Harry S. Truman       175.0\n",
      "31     34    Dwight D. Eisenhower       179.0\n",
      "32     35         John F. Kennedy       183.0\n",
      "33     36       Lyndon B. Johnson       193.0\n",
      "34     37           Richard Nixon       182.0\n",
      "35     38             Gerald Ford       183.0\n",
      "36     39            Jimmy Carter       177.0\n",
      "37     40           Ronald Reagan       185.0\n",
      "38     41       George H. W. Bush       188.0\n",
      "39     42            Bill Clinton       188.0\n",
      "40     43          George W. Bush       182.0\n",
      "41     44            Barack Obama       185.0\n",
      "    order                    name  height(cm)\n",
      "0       1       George Washington       189.0\n",
      "1       2              John Adams       170.0\n",
      "2       3        Thomas Jefferson       189.0\n",
      "3       4           James Madison       163.0\n",
      "4       5            James Monroe        10.0\n",
      "5       6       John Quincy Adams       171.0\n",
      "6       7          Andrew Jackson        10.0\n",
      "7       8        Martin Van Buren       168.0\n",
      "8       9  William Henry Harrison       173.0\n",
      "9      10              John Tyler       183.0\n",
      "10     11           James K. Polk        10.0\n",
      "11     12          Zachary Taylor       173.0\n",
      "12     13        Millard Fillmore       175.0\n",
      "13     14         Franklin Pierce       178.0\n",
      "14     15          James Buchanan       183.0\n",
      "15     16         Abraham Lincoln       193.0\n",
      "16     17          Andrew Johnson        10.0\n",
      "17     18        Ulysses S. Grant       173.0\n",
      "18     19     Rutherford B. Hayes       174.0\n",
      "19     20       James A. Garfield       183.0\n",
      "20     21       Chester A. Arthur       183.0\n",
      "21     23       Benjamin Harrison       168.0\n",
      "22     25        William McKinley       170.0\n",
      "23     26      Theodore Roosevelt       178.0\n",
      "24     27     William Howard Taft       182.0\n",
      "25     28          Woodrow Wilson       180.0\n",
      "26     29       Warren G. Harding       183.0\n",
      "27     30         Calvin Coolidge       178.0\n",
      "28     31          Herbert Hoover       182.0\n",
      "29     32   Franklin D. Roosevelt       188.0\n",
      "30     33         Harry S. Truman       175.0\n",
      "31     34    Dwight D. Eisenhower       179.0\n",
      "32     35         John F. Kennedy       183.0\n",
      "33     36       Lyndon B. Johnson       193.0\n",
      "34     37           Richard Nixon       182.0\n",
      "35     38             Gerald Ford       183.0\n",
      "36     39            Jimmy Carter       177.0\n",
      "37     40           Ronald Reagan       185.0\n",
      "38     41       George H. W. Bush       188.0\n",
      "39     42            Bill Clinton       188.0\n",
      "40     43          George W. Bush       182.0\n",
      "41     44            Barack Obama       185.0\n",
      "    order                    name  height(cm)\n",
      "0       1       George Washington       189.0\n",
      "1       2              John Adams       170.0\n",
      "2       3        Thomas Jefferson       189.0\n",
      "3       4           James Madison       163.0\n",
      "4       5            James Monroe       163.0\n",
      "5       6       John Quincy Adams       171.0\n",
      "6       7          Andrew Jackson       171.0\n",
      "7       8        Martin Van Buren       168.0\n",
      "8       9  William Henry Harrison       173.0\n",
      "9      10              John Tyler       183.0\n",
      "10     11           James K. Polk       183.0\n",
      "11     12          Zachary Taylor       173.0\n",
      "12     13        Millard Fillmore       175.0\n",
      "13     14         Franklin Pierce       178.0\n",
      "14     15          James Buchanan       183.0\n",
      "15     16         Abraham Lincoln       193.0\n",
      "16     17          Andrew Johnson       193.0\n",
      "17     18        Ulysses S. Grant       173.0\n",
      "18     19     Rutherford B. Hayes       174.0\n",
      "19     20       James A. Garfield       183.0\n",
      "20     21       Chester A. Arthur       183.0\n",
      "21     23       Benjamin Harrison       168.0\n",
      "22     25        William McKinley       170.0\n",
      "23     26      Theodore Roosevelt       178.0\n",
      "24     27     William Howard Taft       182.0\n",
      "25     28          Woodrow Wilson       180.0\n",
      "26     29       Warren G. Harding       183.0\n",
      "27     30         Calvin Coolidge       178.0\n",
      "28     31          Herbert Hoover       182.0\n",
      "29     32   Franklin D. Roosevelt       188.0\n",
      "30     33         Harry S. Truman       175.0\n",
      "31     34    Dwight D. Eisenhower       179.0\n",
      "32     35         John F. Kennedy       183.0\n",
      "33     36       Lyndon B. Johnson       193.0\n",
      "34     37           Richard Nixon       182.0\n",
      "35     38             Gerald Ford       183.0\n",
      "36     39            Jimmy Carter       177.0\n",
      "37     40           Ronald Reagan       185.0\n",
      "38     41       George H. W. Bush       188.0\n",
      "39     42            Bill Clinton       188.0\n",
      "40     43          George W. Bush       182.0\n",
      "41     44            Barack Obama       185.0\n",
      "    order                    name  height(cm)\n",
      "0       1       George Washington       189.0\n",
      "1       2              John Adams       170.0\n",
      "2       3        Thomas Jefferson       189.0\n",
      "3       4           James Madison       163.0\n",
      "4       5            James Monroe       171.0\n",
      "5       6       John Quincy Adams       171.0\n",
      "6       7          Andrew Jackson       168.0\n",
      "7       8        Martin Van Buren       168.0\n",
      "8       9  William Henry Harrison       173.0\n",
      "9      10              John Tyler       183.0\n",
      "10     11           James K. Polk       173.0\n",
      "11     12          Zachary Taylor       173.0\n",
      "12     13        Millard Fillmore       175.0\n",
      "13     14         Franklin Pierce       178.0\n",
      "14     15          James Buchanan       183.0\n",
      "15     16         Abraham Lincoln       193.0\n",
      "16     17          Andrew Johnson       173.0\n",
      "17     18        Ulysses S. Grant       173.0\n",
      "18     19     Rutherford B. Hayes       174.0\n",
      "19     20       James A. Garfield       183.0\n",
      "20     21       Chester A. Arthur       183.0\n",
      "21     23       Benjamin Harrison       168.0\n",
      "22     25        William McKinley       170.0\n",
      "23     26      Theodore Roosevelt       178.0\n",
      "24     27     William Howard Taft       182.0\n",
      "25     28          Woodrow Wilson       180.0\n",
      "26     29       Warren G. Harding       183.0\n",
      "27     30         Calvin Coolidge       178.0\n",
      "28     31          Herbert Hoover       182.0\n",
      "29     32   Franklin D. Roosevelt       188.0\n",
      "30     33         Harry S. Truman       175.0\n",
      "31     34    Dwight D. Eisenhower       179.0\n",
      "32     35         John F. Kennedy       183.0\n",
      "33     36       Lyndon B. Johnson       193.0\n",
      "34     37           Richard Nixon       182.0\n",
      "35     38             Gerald Ford       183.0\n",
      "36     39            Jimmy Carter       177.0\n",
      "37     40           Ronald Reagan       185.0\n",
      "38     41       George H. W. Bush       188.0\n",
      "39     42            Bill Clinton       188.0\n",
      "40     43          George W. Bush       182.0\n",
      "41     44            Barack Obama       185.0\n"
     ]
    },
    {
     "name": "stderr",
     "output_type": "stream",
     "text": [
      "C:\\Users\\91939\\AppData\\Local\\Temp\\ipykernel_15980\\1530414639.py:7: FutureWarning: DataFrame.fillna with 'method' is deprecated and will raise in a future version. Use obj.ffill() or obj.bfill() instead.\n",
      "  print(missdata.fillna(method='ffill'))# forward fill to propagate the previous value\n",
      "C:\\Users\\91939\\AppData\\Local\\Temp\\ipykernel_15980\\1530414639.py:8: FutureWarning: DataFrame.fillna with 'method' is deprecated and will raise in a future version. Use obj.ffill() or obj.bfill() instead.\n",
      "  print(missdata.fillna(method=\"bfill\"))# backward fill to propagate the next value\n"
     ]
    }
   ],
   "source": [
    "#Handling Missing Data\n",
    "import pandas as pd\n",
    "missdata=pd.read_csv(\"C:/Users/91939/Desktop/1st-MCA/python/president_heights1.csv\")\n",
    "print(missdata.head(10))\n",
    "print(missdata.dropna())\n",
    "print(missdata.fillna(10))\n",
    "print(missdata.fillna(method='ffill'))# forward fill to propagate the previous value\n",
    "print(missdata.fillna(method=\"bfill\"))# backward fill to propagate the next value"
   ]
  },
  {
   "cell_type": "code",
   "execution_count": null,
   "metadata": {},
   "outputs": [
    {
     "data": {
      "text/html": [
       "<div>\n",
       "<style scoped>\n",
       "    .dataframe tbody tr th:only-of-type {\n",
       "        vertical-align: middle;\n",
       "    }\n",
       "\n",
       "    .dataframe tbody tr th {\n",
       "        vertical-align: top;\n",
       "    }\n",
       "\n",
       "    .dataframe thead th {\n",
       "        text-align: right;\n",
       "    }\n",
       "</style>\n",
       "<table border=\"1\" class=\"dataframe\">\n",
       "  <thead>\n",
       "    <tr style=\"text-align: right;\">\n",
       "      <th></th>\n",
       "      <th>AGE</th>\n",
       "      <th>HEIGHT</th>\n",
       "      <th>WEIGHT</th>\n",
       "      <th>CHOL</th>\n",
       "    </tr>\n",
       "  </thead>\n",
       "  <tbody>\n",
       "    <tr>\n",
       "      <th>count</th>\n",
       "      <td>200.000000</td>\n",
       "      <td>200.00000</td>\n",
       "      <td>200.000000</td>\n",
       "      <td>200.000000</td>\n",
       "    </tr>\n",
       "    <tr>\n",
       "      <th>mean</th>\n",
       "      <td>35.715000</td>\n",
       "      <td>172.35000</td>\n",
       "      <td>75.885000</td>\n",
       "      <td>233.600000</td>\n",
       "    </tr>\n",
       "    <tr>\n",
       "      <th>std</th>\n",
       "      <td>9.604426</td>\n",
       "      <td>6.77399</td>\n",
       "      <td>10.442076</td>\n",
       "      <td>44.766732</td>\n",
       "    </tr>\n",
       "    <tr>\n",
       "      <th>min</th>\n",
       "      <td>18.000000</td>\n",
       "      <td>156.00000</td>\n",
       "      <td>53.000000</td>\n",
       "      <td>107.000000</td>\n",
       "    </tr>\n",
       "    <tr>\n",
       "      <th>25%</th>\n",
       "      <td>28.750000</td>\n",
       "      <td>168.00000</td>\n",
       "      <td>68.750000</td>\n",
       "      <td>204.000000</td>\n",
       "    </tr>\n",
       "    <tr>\n",
       "      <th>50%</th>\n",
       "      <td>37.000000</td>\n",
       "      <td>172.00000</td>\n",
       "      <td>75.000000</td>\n",
       "      <td>232.000000</td>\n",
       "    </tr>\n",
       "    <tr>\n",
       "      <th>75%</th>\n",
       "      <td>42.000000</td>\n",
       "      <td>176.00000</td>\n",
       "      <td>82.000000</td>\n",
       "      <td>259.000000</td>\n",
       "    </tr>\n",
       "    <tr>\n",
       "      <th>max</th>\n",
       "      <td>58.000000</td>\n",
       "      <td>191.00000</td>\n",
       "      <td>110.000000</td>\n",
       "      <td>455.000000</td>\n",
       "    </tr>\n",
       "  </tbody>\n",
       "</table>\n",
       "</div>"
      ],
      "text/plain": [
       "              AGE     HEIGHT      WEIGHT        CHOL\n",
       "count  200.000000  200.00000  200.000000  200.000000\n",
       "mean    35.715000  172.35000   75.885000  233.600000\n",
       "std      9.604426    6.77399   10.442076   44.766732\n",
       "min     18.000000  156.00000   53.000000  107.000000\n",
       "25%     28.750000  168.00000   68.750000  204.000000\n",
       "50%     37.000000  172.00000   75.000000  232.000000\n",
       "75%     42.000000  176.00000   82.000000  259.000000\n",
       "max     58.000000  191.00000  110.000000  455.000000"
      ]
     },
     "execution_count": 24,
     "metadata": {},
     "output_type": "execute_result"
    }
   ],
   "source": [
    "data=pd.read_csv(\"C:/Users/91939/Desktop/1st-MCA/python/Q8_MortalityDataset.csv\")\n",
    "# print(data)\n",
    "# data.info()\n",
    "data.describe()"
   ]
  },
  {
   "cell_type": "code",
   "execution_count": null,
   "metadata": {},
   "outputs": [
    {
     "name": "stdout",
     "output_type": "stream",
     "text": [
      "<class 'pandas.core.frame.DataFrame'>\n",
      "RangeIndex: 200 entries, 0 to 199\n",
      "Data columns (total 7 columns):\n",
      " #   Column  Non-Null Count  Dtype \n",
      "---  ------  --------------  ----- \n",
      " 0   AGE     200 non-null    int64 \n",
      " 1   HEIGHT  200 non-null    int64 \n",
      " 2   WEIGHT  200 non-null    int64 \n",
      " 3   CHOL    200 non-null    int64 \n",
      " 4   SMOKE   200 non-null    object\n",
      " 5   BLOOD   200 non-null    object\n",
      " 6   MORT    200 non-null    object\n",
      "dtypes: int64(4), object(3)\n",
      "memory usage: 11.1+ KB\n"
     ]
    }
   ],
   "source": [
    "data.info()"
   ]
  },
  {
   "cell_type": "code",
   "execution_count": null,
   "metadata": {},
   "outputs": [
    {
     "name": "stdout",
     "output_type": "stream",
     "text": [
      "     AGE  HEIGHT  WEIGHT  CHOL   SMOKE BLOOD   MORT\n",
      "0     20     176      77   195  nonsmo     b  alive\n",
      "1     53     167      56   250  sigare     o   dead\n",
      "2     44     170      80   304  sigare     a   dead\n",
      "3     37     173      89   178  nonsmo     o  alive\n",
      "4     26     170      71   206  sigare     o  alive\n",
      "..   ...     ...     ...   ...     ...   ...    ...\n",
      "195   35     174      57   222    pipe     a  alive\n",
      "196   38     172      91   227  nonsmo     b  alive\n",
      "197   26     170      60   167  sigare     a  alive\n",
      "198   39     165      74   259  sigare     o  alive\n",
      "199   49     178      81   275    pipe     b  alive\n",
      "\n",
      "[200 rows x 7 columns]\n"
     ]
    }
   ],
   "source": [
    "print(data)"
   ]
  },
  {
   "cell_type": "code",
   "execution_count": null,
   "metadata": {},
   "outputs": [
    {
     "data": {
      "text/plain": [
       "(200, 7)"
      ]
     },
     "execution_count": 27,
     "metadata": {},
     "output_type": "execute_result"
    }
   ],
   "source": [
    "data.shape # rows and columns"
   ]
  },
  {
   "cell_type": "code",
   "execution_count": null,
   "metadata": {},
   "outputs": [
    {
     "name": "stdout",
     "output_type": "stream",
     "text": [
      "     AGE  HEIGHT  WEIGHT  CHOL   SMOKE BLOOD   MORT\n",
      "108   37     174      69   260  sigare     b  alive\n",
      "166   21     186      90   196  sigare     o  alive\n",
      "15    37     168      86   307  sigare     o  alive\n",
      "31    30     179      75   225  sigare     a  alive\n",
      "49    47     177      81   258    pipe     o  alive\n",
      "46    48     168      86   230  sigare     b   dead\n",
      "42    37     173      83   278  sigare     a  alive\n",
      "136   27     168      58   250  sigare     a  alive\n",
      "173   31     173      87   215  sigare     a  alive\n",
      "163   34     175      67   170  nonsmo     a  alive\n"
     ]
    }
   ],
   "source": [
    "morsample=data.sample(n=10) # pick random rows. \n",
    "print(morsample)"
   ]
  },
  {
   "cell_type": "code",
   "execution_count": null,
   "metadata": {},
   "outputs": [
    {
     "data": {
      "text/plain": [
       "AGE           37\n",
       "HEIGHT       174\n",
       "WEIGHT        69\n",
       "CHOL         260\n",
       "SMOKE     sigare\n",
       "BLOOD          b\n",
       "MORT       alive\n",
       "Name: 108, dtype: object"
      ]
     },
     "execution_count": 63,
     "metadata": {},
     "output_type": "execute_result"
    }
   ],
   "source": [
    "morsample.iloc[0] #index location. output is not in dataframe but is in series"
   ]
  },
  {
   "cell_type": "code",
   "execution_count": null,
   "metadata": {},
   "outputs": [
    {
     "data": {
      "text/html": [
       "<div>\n",
       "<style scoped>\n",
       "    .dataframe tbody tr th:only-of-type {\n",
       "        vertical-align: middle;\n",
       "    }\n",
       "\n",
       "    .dataframe tbody tr th {\n",
       "        vertical-align: top;\n",
       "    }\n",
       "\n",
       "    .dataframe thead th {\n",
       "        text-align: right;\n",
       "    }\n",
       "</style>\n",
       "<table border=\"1\" class=\"dataframe\">\n",
       "  <thead>\n",
       "    <tr style=\"text-align: right;\">\n",
       "      <th></th>\n",
       "      <th>HEIGHT</th>\n",
       "      <th>WEIGHT</th>\n",
       "    </tr>\n",
       "  </thead>\n",
       "  <tbody>\n",
       "    <tr>\n",
       "      <th>49</th>\n",
       "      <td>177</td>\n",
       "      <td>81</td>\n",
       "    </tr>\n",
       "    <tr>\n",
       "      <th>46</th>\n",
       "      <td>168</td>\n",
       "      <td>86</td>\n",
       "    </tr>\n",
       "    <tr>\n",
       "      <th>42</th>\n",
       "      <td>173</td>\n",
       "      <td>83</td>\n",
       "    </tr>\n",
       "    <tr>\n",
       "      <th>136</th>\n",
       "      <td>168</td>\n",
       "      <td>58</td>\n",
       "    </tr>\n",
       "  </tbody>\n",
       "</table>\n",
       "</div>"
      ],
      "text/plain": [
       "     HEIGHT  WEIGHT\n",
       "49      177      81\n",
       "46      168      86\n",
       "42      173      83\n",
       "136     168      58"
      ]
     },
     "execution_count": 65,
     "metadata": {},
     "output_type": "execute_result"
    }
   ],
   "source": [
    "morsample.iloc[4:8, 1:3] #rows and columns"
   ]
  },
  {
   "cell_type": "code",
   "execution_count": null,
   "metadata": {},
   "outputs": [
    {
     "data": {
      "text/html": [
       "<div>\n",
       "<style scoped>\n",
       "    .dataframe tbody tr th:only-of-type {\n",
       "        vertical-align: middle;\n",
       "    }\n",
       "\n",
       "    .dataframe tbody tr th {\n",
       "        vertical-align: top;\n",
       "    }\n",
       "\n",
       "    .dataframe thead th {\n",
       "        text-align: right;\n",
       "    }\n",
       "</style>\n",
       "<table border=\"1\" class=\"dataframe\">\n",
       "  <thead>\n",
       "    <tr style=\"text-align: right;\">\n",
       "      <th></th>\n",
       "      <th>AGE</th>\n",
       "      <th>HEIGHT</th>\n",
       "      <th>WEIGHT</th>\n",
       "      <th>CHOL</th>\n",
       "      <th>SMOKE</th>\n",
       "      <th>BLOOD</th>\n",
       "      <th>MORT</th>\n",
       "    </tr>\n",
       "  </thead>\n",
       "  <tbody>\n",
       "    <tr>\n",
       "      <th>108</th>\n",
       "      <td>37</td>\n",
       "      <td>174</td>\n",
       "      <td>69</td>\n",
       "      <td>260</td>\n",
       "      <td>sigare</td>\n",
       "      <td>b</td>\n",
       "      <td>alive</td>\n",
       "    </tr>\n",
       "    <tr>\n",
       "      <th>166</th>\n",
       "      <td>21</td>\n",
       "      <td>186</td>\n",
       "      <td>90</td>\n",
       "      <td>196</td>\n",
       "      <td>sigare</td>\n",
       "      <td>o</td>\n",
       "      <td>alive</td>\n",
       "    </tr>\n",
       "  </tbody>\n",
       "</table>\n",
       "</div>"
      ],
      "text/plain": [
       "     AGE  HEIGHT  WEIGHT  CHOL   SMOKE BLOOD   MORT\n",
       "108   37     174      69   260  sigare     b  alive\n",
       "166   21     186      90   196  sigare     o  alive"
      ]
     },
     "execution_count": 66,
     "metadata": {},
     "output_type": "execute_result"
    }
   ],
   "source": [
    "morsample.iloc[[0,1]]"
   ]
  },
  {
   "cell_type": "code",
   "execution_count": null,
   "metadata": {},
   "outputs": [
    {
     "data": {
      "text/html": [
       "<div>\n",
       "<style scoped>\n",
       "    .dataframe tbody tr th:only-of-type {\n",
       "        vertical-align: middle;\n",
       "    }\n",
       "\n",
       "    .dataframe tbody tr th {\n",
       "        vertical-align: top;\n",
       "    }\n",
       "\n",
       "    .dataframe thead th {\n",
       "        text-align: right;\n",
       "    }\n",
       "</style>\n",
       "<table border=\"1\" class=\"dataframe\">\n",
       "  <thead>\n",
       "    <tr style=\"text-align: right;\">\n",
       "      <th></th>\n",
       "      <th></th>\n",
       "      <th></th>\n",
       "      <th>AGE</th>\n",
       "      <th>HEIGHT</th>\n",
       "      <th>WEIGHT</th>\n",
       "      <th>CHOL</th>\n",
       "    </tr>\n",
       "    <tr>\n",
       "      <th>BLOOD</th>\n",
       "      <th>MORT</th>\n",
       "      <th>SMOKE</th>\n",
       "      <th></th>\n",
       "      <th></th>\n",
       "      <th></th>\n",
       "      <th></th>\n",
       "    </tr>\n",
       "  </thead>\n",
       "  <tbody>\n",
       "    <tr>\n",
       "      <th rowspan=\"2\" valign=\"top\">a</th>\n",
       "      <th rowspan=\"2\" valign=\"top\">alive</th>\n",
       "      <th>nonsmo</th>\n",
       "      <td>34.00</td>\n",
       "      <td>175.00</td>\n",
       "      <td>67.00</td>\n",
       "      <td>170.0</td>\n",
       "    </tr>\n",
       "    <tr>\n",
       "      <th>sigare</th>\n",
       "      <td>31.25</td>\n",
       "      <td>173.25</td>\n",
       "      <td>75.75</td>\n",
       "      <td>242.0</td>\n",
       "    </tr>\n",
       "    <tr>\n",
       "      <th rowspan=\"2\" valign=\"top\">b</th>\n",
       "      <th>alive</th>\n",
       "      <th>sigare</th>\n",
       "      <td>37.00</td>\n",
       "      <td>174.00</td>\n",
       "      <td>69.00</td>\n",
       "      <td>260.0</td>\n",
       "    </tr>\n",
       "    <tr>\n",
       "      <th>dead</th>\n",
       "      <th>sigare</th>\n",
       "      <td>48.00</td>\n",
       "      <td>168.00</td>\n",
       "      <td>86.00</td>\n",
       "      <td>230.0</td>\n",
       "    </tr>\n",
       "    <tr>\n",
       "      <th rowspan=\"2\" valign=\"top\">o</th>\n",
       "      <th rowspan=\"2\" valign=\"top\">alive</th>\n",
       "      <th>pipe</th>\n",
       "      <td>47.00</td>\n",
       "      <td>177.00</td>\n",
       "      <td>81.00</td>\n",
       "      <td>258.0</td>\n",
       "    </tr>\n",
       "    <tr>\n",
       "      <th>sigare</th>\n",
       "      <td>29.00</td>\n",
       "      <td>177.00</td>\n",
       "      <td>88.00</td>\n",
       "      <td>251.5</td>\n",
       "    </tr>\n",
       "  </tbody>\n",
       "</table>\n",
       "</div>"
      ],
      "text/plain": [
       "                      AGE  HEIGHT  WEIGHT   CHOL\n",
       "BLOOD MORT  SMOKE                               \n",
       "a     alive nonsmo  34.00  175.00   67.00  170.0\n",
       "            sigare  31.25  173.25   75.75  242.0\n",
       "b     alive sigare  37.00  174.00   69.00  260.0\n",
       "      dead  sigare  48.00  168.00   86.00  230.0\n",
       "o     alive pipe    47.00  177.00   81.00  258.0\n",
       "            sigare  29.00  177.00   88.00  251.5"
      ]
     },
     "execution_count": 71,
     "metadata": {},
     "output_type": "execute_result"
    }
   ],
   "source": [
    "morhindex=morsample.groupby(['BLOOD','MORT','SMOKE']).mean() #used as pivot table in excel. displays average of number of records\n",
    "morhindex"
   ]
  },
  {
   "cell_type": "code",
   "execution_count": null,
   "metadata": {},
   "outputs": [
    {
     "data": {
      "text/plain": [
       "BLOOD  MORT   SMOKE \n",
       "a      alive  nonsmo    1\n",
       "              sigare    4\n",
       "b      alive  sigare    1\n",
       "       dead   sigare    1\n",
       "o      alive  pipe      1\n",
       "              sigare    2\n",
       "dtype: int64"
      ]
     },
     "execution_count": 74,
     "metadata": {},
     "output_type": "execute_result"
    }
   ],
   "source": [
    "morhindex1=morsample.groupby(['BLOOD','MORT','SMOKE']).size() #number of records present according to the group\n",
    "morhindex1"
   ]
  }
 ],
 "metadata": {
  "kernelspec": {
   "display_name": "Python 3",
   "language": "python",
   "name": "python3"
  },
  "language_info": {
   "codemirror_mode": {
    "name": "ipython",
    "version": 3
   },
   "file_extension": ".py",
   "mimetype": "text/x-python",
   "name": "python",
   "nbconvert_exporter": "python",
   "pygments_lexer": "ipython3",
   "version": "3.10.11"
  },
  "orig_nbformat": 4
 },
 "nbformat": 4,
 "nbformat_minor": 2
}
