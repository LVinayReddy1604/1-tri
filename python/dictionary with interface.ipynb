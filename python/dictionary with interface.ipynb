{
 "cells": [
  {
   "cell_type": "markdown",
   "metadata": {},
   "source": [
    "write a python script to create a dictionary for the following data and perform the below mentioned\n",
    "\n",
    "    interface   ip          status\n",
    "\n",
    "1.  Ethnernet0  1.1.1.1     up\n",
    "2.  Ethnernet1  2.2.2.2     down\n",
    "3.  Serial0     3.3.3.3     up\n",
    "4.  Serial1     4.4.4.4     up\n",
    "\n",
    "a. Print the status of a given interface\n",
    "b. Print all the interface and IP whose Status is up\n",
    "c. Give the count of ethernet interfaces that"
   ]
  },
  {
   "cell_type": "code",
   "execution_count": 16,
   "metadata": {},
   "outputs": [
    {
     "name": "stdout",
     "output_type": "stream",
     "text": [
      "up\n",
      "Ethnernet0 1.1.1.1\n",
      "Serial0 3.3.3.3\n",
      "Serial1 4.4.4.4\n",
      "3\n"
     ]
    }
   ],
   "source": [
    "# Create a dictionary of interfaces and their IP addresses and status\n",
    "interfaces = {\n",
    "    \"Ethernet0\": {\"ip\": \"1.1.1.1\", \"status\": \"up\"},\n",
    "    \"Ethernet1\": {\"ip\": \"2.2.2.2\", \"status\": \"down\"},\n",
    "    \"Serial0\": {\"ip\": \"3.3.3.3\", \"status\": \"up\"},\n",
    "    \"Serial1\": {\"ip\": \"4.4.4.4\", \"status\": \"up\"},\n",
    "}\n",
    "\n",
    "# Print the status of a given interface\n",
    "interfacename=input(\"Enter the interface name: \")\n",
    "print(interfaces[\"\"+interfacename+\"\"][\"status\"])\n",
    "#if(details.__contains__[interfacename])\n",
    "#print(details[interface[1]])\n",
    "\n",
    "\n",
    "# Print all the interface and IP whose Status is up\n",
    "for interface, data in interfaces.items():\n",
    "    if data[\"status\"] == \"up\":\n",
    "        print(interface, data[\"ip\"])\n",
    "\n",
    "# Give the count of ethernet interfaces that are up\n",
    "print(len([interface for interface, data in interfaces.items() if data[\"status\"] == \"up\"]))\n"
   ]
  },
  {
   "cell_type": "code",
   "execution_count": 13,
   "metadata": {},
   "outputs": [
    {
     "name": "stdout",
     "output_type": "stream",
     "text": [
      "BCA\n",
      "UG\n",
      "PG\n",
      "PHD\n"
     ]
    }
   ],
   "source": [
    "Department={\n",
    "    \"UG\":[\"BSC-CMS\",\"BCA\"],\n",
    "    \"PG\":[\"MCA\",\"MCOM\"],\n",
    "    \"PHD\":[\"networks\",\"AIML\"]\n",
    "}\n",
    "print(Department[\"UG\"][1])\n",
    "\n",
    "for i in Department:\n",
    "    print(i)"
   ]
  },
  {
   "cell_type": "markdown",
   "metadata": {},
   "source": [
    "DNA sequences consist of four types molecules, which can be represented by the letter C, G and T respectively. Write a function countbase, which takes a string arguements representing a DNA sequence, and returns a dict that contains the count of each base, with the base letter beung the key and the count as the value. \n",
    "For example:\n",
    "    countbase('ACGTGGGAGTC')\n",
    "        returns{'A':2,'C':2,'G':5,'T':2}\n",
    "    countbase('ATBLC')\n",
    "        returns{'A':1,'C':1,'G':0,'T':1}\n",
    "    "
   ]
  },
  {
   "cell_type": "code",
   "execution_count": 19,
   "metadata": {},
   "outputs": [
    {
     "name": "stdout",
     "output_type": "stream",
     "text": [
      "{'A': 4, 'C': 3, 'T': 3, 'G': 3}\n"
     ]
    }
   ],
   "source": [
    "def countbase(seq):\n",
    "    # Create a dictionary to store the base counts.\n",
    "    base_counts = {}\n",
    "    # Iterate over the sequence and increment the count for each base.\n",
    "    for base in seq:\n",
    "        if base not in base_counts:\n",
    "            base_counts[base] = 0\n",
    "        base_counts[base] += 1\n",
    "    # Return the dictionary of base counts.\n",
    "    return base_counts\n",
    "\n",
    "seq = 'ACTGACTGACGAT'\n",
    "print(countbase(seq))"
   ]
  }
 ],
 "metadata": {
  "kernelspec": {
   "display_name": "Python 3",
   "language": "python",
   "name": "python3"
  },
  "language_info": {
   "codemirror_mode": {
    "name": "ipython",
    "version": 3
   },
   "file_extension": ".py",
   "mimetype": "text/x-python",
   "name": "python",
   "nbconvert_exporter": "python",
   "pygments_lexer": "ipython3",
   "version": "3.10.11"
  },
  "orig_nbformat": 4
 },
 "nbformat": 4,
 "nbformat_minor": 2
}
