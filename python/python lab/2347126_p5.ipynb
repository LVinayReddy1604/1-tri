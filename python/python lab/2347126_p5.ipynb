{
 "cells": [
  {
   "cell_type": "markdown",
   "metadata": {},
   "source": [
    "Write a program which accepts as input a DOB in the format \"dd/mm/yyyy \"and prints AGE of the person. Validate the input using Exceptional Handling \n",
    "If no input is given, prompt user to enter input \n",
    "If \"?\" is typed help the user by telling him/her to enter Data of Birth in the required format \n",
    "If date is entered validate the correctness of the date and print AGE \n",
    "If \"q\" or \"Q\" is entered invoke a user defined exception which quits the program after printing \"Bye! Hope you run this program again\". "
   ]
  },
  {
   "cell_type": "code",
   "execution_count": 1,
   "metadata": {},
   "outputs": [
    {
     "name": "stdout",
     "output_type": "stream",
     "text": [
      "Invalid date format. Please use the format dd/mm/yyyy.\n",
      "Invalid date format. Please use the format dd/mm/yyyy.\n",
      "The person's age is 1233 years.\n",
      "Invalid date format. Please use the format dd/mm/yyyy.\n",
      "Bye! Hope you run this program again.\n"
     ]
    }
   ],
   "source": [
    "import datetime\n",
    "\n",
    "class invaliddate(Exception):\n",
    "    pass\n",
    "\n",
    "class quit(Exception):\n",
    "    pass\n",
    "\n",
    "def AgeCalculate(dob):\n",
    "    today = datetime.date.today()\n",
    "    age = today.year - dob.year\n",
    "    return age\n",
    "\n",
    "def DOB_input():\n",
    "    while True:\n",
    "        dob_input = input(\"Enter Date of Birth (dd/mm/yyyy), ? for help, or q to quit: \")\n",
    "        dob_input = dob_input.strip()\n",
    "\n",
    "        if not dob_input:\n",
    "            print(\"No input provided. Please enter Date of Birth or q to quit.\")\n",
    "            continue\n",
    "        elif dob_input.lower() == 'q':\n",
    "            raise quit(\"Bye! Hope you run this program again.\")\n",
    "\n",
    "        if dob_input == \"?\":\n",
    "            print(\"Please enter Date of Birth in the format dd/mm/yyyy.\")\n",
    "            continue\n",
    "\n",
    "        try:\n",
    "            dob = datetime.datetime.strptime(dob_input, \"%d/%m/%Y\").date()\n",
    "            return dob\n",
    "        except ValueError:\n",
    "            print(\"Invalid date format. Please use the format dd/mm/yyyy.\")\n",
    "            continue\n",
    "\n",
    "try:\n",
    "    while True:\n",
    "        try:\n",
    "            dob = DOB_input()\n",
    "            age = AgeCalculate(dob)\n",
    "            print(f\"The person's age is {age} years.\")\n",
    "        except invaliddate:\n",
    "            print(\"Invalid date format. Please use the format dd/mm/yyyy.\")\n",
    "except quit as e:\n",
    "    print(e)\n"
   ]
  }
 ],
 "metadata": {
  "kernelspec": {
   "display_name": "Python 3",
   "language": "python",
   "name": "python3"
  },
  "language_info": {
   "codemirror_mode": {
    "name": "ipython",
    "version": 3
   },
   "file_extension": ".py",
   "mimetype": "text/x-python",
   "name": "python",
   "nbconvert_exporter": "python",
   "pygments_lexer": "ipython3",
   "version": "3.10.11"
  },
  "orig_nbformat": 4
 },
 "nbformat": 4,
 "nbformat_minor": 2
}
