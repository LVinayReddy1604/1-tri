{
 "cells": [
  {
   "cell_type": "markdown",
   "metadata": {},
   "source": [
    "create a list get input 'n' from the user, check 'n' is present in the list or not. if it is present generate multiplication table for the 'N'. if it is not present consider n as the index position and print the multiplication tabel of the number in that list. restrict the n value to 10"
   ]
  },
  {
   "cell_type": "code",
   "execution_count": 6,
   "metadata": {},
   "outputs": [
    {
     "name": "stdout",
     "output_type": "stream",
     "text": [
      "n doesn't exist in the list and the range excedes the length of the list\n"
     ]
    }
   ],
   "source": [
    "import random\n",
    "list1=[5,10,20,3,2,4]\n",
    "n=int(input(\"Enter the value of n\"))\n",
    "if(n<0):\n",
    "    print(\"Invalid Input\")\n",
    "elif(n>len(list1)):\n",
    "    if(n in list1):\n",
    "        for i in range(1, 11):\n",
    "            print(n, \"*\", i, \"=\", n * i)\n",
    "    else:\n",
    "        print(\"n doesn't exist in the list and the range excedes the length of the list\")\n",
    "else:\n",
    "    for i in range(1,11):\n",
    "        print(list1[n-1], \"*\", i, \"=\", list1[n-1]*i)"
   ]
  }
 ],
 "metadata": {
  "kernelspec": {
   "display_name": "Python 3",
   "language": "python",
   "name": "python3"
  },
  "language_info": {
   "codemirror_mode": {
    "name": "ipython",
    "version": 3
   },
   "file_extension": ".py",
   "mimetype": "text/x-python",
   "name": "python",
   "nbconvert_exporter": "python",
   "pygments_lexer": "ipython3",
   "version": "3.10.11"
  },
  "orig_nbformat": 4
 },
 "nbformat": 4,
 "nbformat_minor": 2
}
