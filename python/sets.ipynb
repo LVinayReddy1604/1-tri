{
 "cells": [
  {
   "cell_type": "markdown",
   "metadata": {},
   "source": [
    "**SETS**"
   ]
  },
  {
   "cell_type": "code",
   "execution_count": 36,
   "metadata": {},
   "outputs": [
    {
     "name": "stdout",
     "output_type": "stream",
     "text": [
      "{'Nirupam', 'Hemanth', 'Naveen', 'Abhinav', 'Punith', 'Ranjith'}\n",
      "6\n"
     ]
    }
   ],
   "source": [
    "Empnames={\"Abhinav\",\"Nirupam\",\"Naveen\",\"Punith\",\"Ranjith\",\"Hemanth\"}\n",
    "print(Empnames)\n",
    "print(len(Empnames))"
   ]
  },
  {
   "cell_type": "markdown",
   "metadata": {},
   "source": [
    "Accessing set elements"
   ]
  },
  {
   "cell_type": "code",
   "execution_count": 37,
   "metadata": {},
   "outputs": [
    {
     "name": "stdout",
     "output_type": "stream",
     "text": [
      "Nirupam\n",
      "Hemanth\n",
      "Naveen\n",
      "Abhinav\n",
      "Punith\n",
      "Ranjith\n"
     ]
    }
   ],
   "source": [
    "for i in Empnames:\n",
    "    print(i)"
   ]
  },
  {
   "cell_type": "code",
   "execution_count": 38,
   "metadata": {},
   "outputs": [
    {
     "name": "stdout",
     "output_type": "stream",
     "text": [
      "True\n"
     ]
    }
   ],
   "source": [
    "print(i in Empnames)"
   ]
  },
  {
   "cell_type": "markdown",
   "metadata": {},
   "source": [
    "Updating the set element, but each character in the \"\" will be added as a separate element in random positions"
   ]
  },
  {
   "cell_type": "code",
   "execution_count": 39,
   "metadata": {},
   "outputs": [
    {
     "name": "stdout",
     "output_type": "stream",
     "text": [
      "{'S', 'D', 'Abhinav', 'Nirupam', 'Hemanth', 'Naveen', 'M', 'Punith', 'Ranjith'}\n"
     ]
    }
   ],
   "source": [
    "Empnames.update(\"MSD\")\n",
    "print(Empnames)\n"
   ]
  },
  {
   "cell_type": "markdown",
   "metadata": {},
   "source": [
    "list insertion to set"
   ]
  },
  {
   "cell_type": "code",
   "execution_count": 40,
   "metadata": {},
   "outputs": [
    {
     "name": "stdout",
     "output_type": "stream",
     "text": [
      "{1, 2, 3, 4, 5, 6, 'S', 'D', 'Abhinav', 'Nirupam', 'Hemanth', 'Naveen', 'M', 'Punith', 'Ranjith'}\n"
     ]
    }
   ],
   "source": [
    "pg=[1,1,2,1,3,4,5,6]\n",
    "Empnames.update(pg)\n",
    "print(Empnames)"
   ]
  },
  {
   "cell_type": "markdown",
   "metadata": {},
   "source": [
    "add() to add a single element and update() is used to add mulitple elements into the set"
   ]
  },
  {
   "cell_type": "code",
   "execution_count": 41,
   "metadata": {},
   "outputs": [
    {
     "name": "stdout",
     "output_type": "stream",
     "text": [
      "{1, 2, 3, 4, 5, 6, 'S', 'D', 'Abhinav', 'Nirupam', 'Guhan', 'Hemanth', 'Naveen', 'M', 'Punith', 'Ranjith'}\n",
      "{1, 2, 3, 4, 5, 6, 'S', 'D', 'Abhinav', 'Nirupam', 'Guhan', 'Hemanth', 'Rohit', 'Rahul', 'Naveen', 'M', 'Punith', 'Ranjith'}\n"
     ]
    }
   ],
   "source": [
    "Empnames.add(\"Guhan\")\n",
    "print(Empnames)\n",
    "names=[\"Rohit\",\"Guhan\",\"Rahul\"]\n",
    "Empnames.update(names)\n",
    "print(Empnames)"
   ]
  },
  {
   "cell_type": "markdown",
   "metadata": {},
   "source": [
    "tuples to set"
   ]
  },
  {
   "cell_type": "code",
   "execution_count": 42,
   "metadata": {},
   "outputs": [
    {
     "name": "stdout",
     "output_type": "stream",
     "text": [
      "{1, 2, 3, 4, 5, 6, 'S', 'D', 11, 12, 21, 22, 'Abhinav', 'Nirupam', 'Guhan', 'Hemanth', 'Rohit', 'Rahul', 'Naveen', 'M', 'Punith', 'Ranjith'}\n"
     ]
    }
   ],
   "source": [
    "Empnames.update([11,12],[21,22],[11,12])\n",
    "print(Empnames)\n",
    "# pg1=(1,2,3,4,5,6)\n",
    "# Empnames.add(pg1) # add() can add a tuple \n",
    "# print(Empnames)\n",
    "# pg2=[1,2,3,4,5,6]\n",
    "# Empnames.add(pg2) #add() cannot add the list\n",
    "# print(Empnames)\n"
   ]
  },
  {
   "cell_type": "markdown",
   "metadata": {},
   "source": [
    "fetching the elements from the set"
   ]
  },
  {
   "cell_type": "code",
   "execution_count": 44,
   "metadata": {},
   "outputs": [
    {
     "name": "stdout",
     "output_type": "stream",
     "text": [
      "{1, 2, 3, 4, 5, 6, 'S', 'D', 11, 12, 21, 22, 'Abhinav', 'Nirupam', 'Guhan', 'Hemanth', 'Rohit', 'Rahul', 'Naveen', 'M', 'Punith', 'Ranjith'}\n",
      "{1, 2, 3, 4, 5, 6, 'S', 'D', 12, 21, 22, 'Abhinav', 'Nirupam', 'Guhan', 'Hemanth', 'Rohit', 'Rahul', 'Naveen', 'M', 'Punith', 'Ranjith'}\n",
      "{1, 2, 3, 4, 5, 6, 'S', 'D', 12, 21, 22, 'Abhinav', 'Nirupam', 'Guhan', 'Hemanth', 'Rohit', 'Rahul', 'Naveen', 'M', 'Punith', 'Ranjith'}\n",
      "{2, 3, 4, 5, 6, 'S', 'D', 12, 21, 22, 'Abhinav', 'Nirupam', 'Guhan', 'Hemanth', 'Rohit', 'Rahul', 'Naveen', 'M', 'Punith', 'Ranjith'}\n"
     ]
    }
   ],
   "source": [
    "print(Empnames)\n",
    "Empnames.remove(11)#throws error if the element is notpresent \n",
    "print(Empnames)\n",
    "Empnames.discard(11)# throws error if 11 is not present also\n",
    "print(Empnames)\n",
    "Empnames.pop()\n",
    "print(Empnames)"
   ]
  },
  {
   "cell_type": "markdown",
   "metadata": {},
   "source": [
    "some of the functions used with sets"
   ]
  },
  {
   "cell_type": "code",
   "execution_count": 47,
   "metadata": {},
   "outputs": [
    {
     "name": "stdout",
     "output_type": "stream",
     "text": [
      "True\n",
      "True\n",
      "5\n",
      "321871\n",
      "25000\n",
      "[25000, 51985, 83233, 98512, 321871]\n",
      "<class 'set'>\n"
     ]
    }
   ],
   "source": [
    "a=\"ABCD\"\n",
    "print(all(a))#all() returns true if all the elements of a given iterable (List, Dictionary, Tuple, set, etc.) are True otherwise it returns False\n",
    "#len() max() min(),sum(),sorted(),type()\n",
    "print(any(a))#checks if any element is present in the set\n",
    "salary={25000,83233,51985,321871,98512}\n",
    "print(len(salary))#length of the set\n",
    "print(max(salary))#max value in the set\n",
    "print(min(salary))\n",
    "print(sorted(salary))\n",
    "print(type(salary))"
   ]
  },
  {
   "cell_type": "code",
   "execution_count": 50,
   "metadata": {},
   "outputs": [
    {
     "name": "stdout",
     "output_type": "stream",
     "text": [
      "2289645466672\n",
      "2289711240064\n",
      "2289711240064\n"
     ]
    }
   ],
   "source": [
    "b={1,2}\n",
    "print(id(a))\n",
    "b.add(11)\n",
    "print(id(b))\n",
    "b.update(\"2\")\n",
    "print(id(b))"
   ]
  },
  {
   "cell_type": "markdown",
   "metadata": {},
   "source": [
    "using frozenset to create immutable set object"
   ]
  },
  {
   "cell_type": "code",
   "execution_count": 56,
   "metadata": {},
   "outputs": [
    {
     "name": "stdout",
     "output_type": "stream",
     "text": [
      "2289711239616\n",
      "2289711239616\n"
     ]
    }
   ],
   "source": [
    "ids=frozenset([1,2,3,4,5,6])\n",
    "print(id(ids))\n",
    "# ids.add(9) # error cause they are immutable\n",
    "# ids.update(9) # error cause frozenset is immutable\n",
    "print(id(ids))"
   ]
  },
  {
   "cell_type": "markdown",
   "metadata": {},
   "source": [
    "unions,intersection,exclusive or, subtraction"
   ]
  },
  {
   "cell_type": "code",
   "execution_count": 63,
   "metadata": {},
   "outputs": [
    {
     "name": "stdout",
     "output_type": "stream",
     "text": [
      "{'C', 'python', 'DBMS', 'COD', 'c++', 'java', 'ADT'}\n",
      "{'C', 'python'}\n",
      "{'DBMS', 'java', 'c++'}\n",
      "{'COD', 'c++', 'DBMS', 'java', 'ADT'}\n"
     ]
    }
   ],
   "source": [
    "BCA={\"DBMS\",\"C\",\"python\",\"c++\",\"java\"}\n",
    "MCA={\"C\",\"COD\",\"ADT\",\"python\"}\n",
    "union_set=BCA.union(MCA)\n",
    "print(union_set)\n",
    "intersection_set=BCA.intersection(MCA)\n",
    "print(intersection_set)\n",
    "# exclusive_set=BCA.exclusive(MCA)\n",
    "# print(exclusive_set)\n",
    "diff_set=BCA.difference(MCA)\n",
    "print(diff_set)\n",
    "symmetric_set=BCA.symmetric_difference(MCA) #exclusive or\n",
    "print(symmetric_set)\n"
   ]
  }
 ],
 "metadata": {
  "kernelspec": {
   "display_name": "Python 3",
   "language": "python",
   "name": "python3"
  },
  "language_info": {
   "codemirror_mode": {
    "name": "ipython",
    "version": 3
   },
   "file_extension": ".py",
   "mimetype": "text/x-python",
   "name": "python",
   "nbconvert_exporter": "python",
   "pygments_lexer": "ipython3",
   "version": "3.10.11"
  },
  "orig_nbformat": 4
 },
 "nbformat": 4,
 "nbformat_minor": 2
}
