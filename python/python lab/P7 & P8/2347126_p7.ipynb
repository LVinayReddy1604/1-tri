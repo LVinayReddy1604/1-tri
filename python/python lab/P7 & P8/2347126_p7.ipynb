{
 "cells": [
  {
   "cell_type": "code",
   "execution_count": 38,
   "metadata": {},
   "outputs": [
    {
     "name": "stdout",
     "output_type": "stream",
     "text": [
      "Number of male Employees are 6\n",
      "[['1012' 'Sachsen' 'Lars' 'M' 'Support Technician']]\n",
      "Female Employee details in descending order based on First_Name\n",
      "[['1006' 'Keyser' 'Cara' 'F' 'Account Executive']\n",
      " ['1003' 'Cox' 'Jennifer' 'F' 'Programmer']\n",
      " ['1002' 'Grinsburg' 'Laura' 'F' 'President']\n",
      " ['1000' 'Torbati' 'Yolanda' 'F' 'Programmer']]\n",
      "1D array\n",
      "[ 1  2  3  4  5  6  7  8  9 10 11 12]\n",
      "Reshaped 1D array into 2D array\n",
      "[[ 1  2  3  4]\n",
      " [ 5  6  7  8]\n",
      " [ 9 10 11 12]]\n",
      "Extracted Matrix\n",
      "['1002' 'Kleinn']\n"
     ]
    }
   ],
   "source": [
    "import numpy as np\n",
    "Employee=np.array([[1000,\"Torbati\",\"Yolanda\",\"F\",\"Programmer\"],\n",
    "                  [1001,\"Kleinn\",\"Joel\",\"M\",\"Programmer\"],\n",
    "                  [1002,\"Grinsburg\",\"Laura\",\"F\",\"President\"],\n",
    "                  [1003,\"Cox\",\"Jennifer\",\"F\",\"Programmer\"],\n",
    "                  [1005,\"Ziada\",\"Mauri\",\"M\",\"Product Designer\"],\n",
    "                  [1006,\"Keyser\",\"Cara\",\"F\",\"Account Executive\"],\n",
    "                  [1010,\"Smith\",\"Roxie\",\"M\",\"Programmer\"],\n",
    "                  [1011,\"Nelson\",\"Robert\",\"M\",\"Programmer\"],\n",
    "                  [1012,\"Sachsen\",\"Lars\",\"M\",\"Support Technician\"],\n",
    "                  [1003,\"Shannon\",\"Don\",\"M\",\"Product Designer\"]])\n",
    "#1.  How many Male employees are in a company?\n",
    "print(\"Number of male Employees are\",len(Employee[Employee[:,3]==\"M\"]))\n",
    "#2. Display the details of employees whose Last_Name starts with S.\n",
    "print(Employee[np.where(Employee[:,1]==\"Sachsen\")])\n",
    "#3. Sort the Female Employee details in descending order based on First_Name.\n",
    "Female_Employee=Employee[Employee[:,3]==\"F\"]\n",
    "Female_Employee=Female_Employee[np.lexsort((Female_Employee[:,2],))]\n",
    "print(\"Female Employee details in descending order based on First_Name\")\n",
    "print(Female_Employee)\n",
    "#4. Extract 1D array and reshape it into 2D array.\n",
    "a=np.array([1,2,3,4,5,6,7,8,9,10,11,12])\n",
    "print(\"1D array\")\n",
    "print(a)\n",
    "b=np.array(a).reshape(3,4)\n",
    "print(\"Reshaped 1D array into 2D array\")\n",
    "print(b)\n",
    "#5. Extract the below matrix using Boolean and Fancy indexing.\n",
    "print(\"Extracted Matrix\")\n",
    "print(Employee[[2,1],[0,1]])\n"
   ]
  }
 ],
 "metadata": {
  "kernelspec": {
   "display_name": "Python 3",
   "language": "python",
   "name": "python3"
  },
  "language_info": {
   "codemirror_mode": {
    "name": "ipython",
    "version": 3
   },
   "file_extension": ".py",
   "mimetype": "text/x-python",
   "name": "python",
   "nbconvert_exporter": "python",
   "pygments_lexer": "ipython3",
   "version": "3.10.11"
  },
  "orig_nbformat": 4
 },
 "nbformat": 4,
 "nbformat_minor": 2
}
