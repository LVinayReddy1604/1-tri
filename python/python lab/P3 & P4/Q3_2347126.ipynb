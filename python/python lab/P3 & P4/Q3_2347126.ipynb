{
 "cells": [
  {
   "cell_type": "markdown",
   "metadata": {},
   "source": [
    "P3:Demonstrate Custom modules with functions 1. You like using QR code for your firm/domain, you have QR code on your product. Now you would like to generate code for your products in python using QR code. (a). Write a function “EncodeQR” which takes the name of the product(in a string) at most 5 characters with a minimum of one letter and returns back a list containing the encoded QR code. Use lambda functions wherever you find it appropriate. (b) Put the above function in a module and use another script to import the module and call the function in the script"
   ]
  },
  {
   "cell_type": "code",
   "execution_count": 3,
   "metadata": {},
   "outputs": [
    {
     "name": "stdout",
     "output_type": "stream",
     "text": [
      "Domain Name : CMS\n",
      "Encoded String is :  10000111000000010000000100110101000000010000001010011001000000001000000100110100010000100001100001000100000100000100\n"
     ]
    }
   ],
   "source": [
    "from QR import EncodeQR\n",
    "res=EncodeQR(\"MCA\")\n",
    "print(\"Domain Name : CMS\")\n",
    "print(\"Encoded String is : \",''.join(res))"
   ]
  },
  {
   "cell_type": "markdown",
   "metadata": {},
   "source": [
    "P4:Demonstrate use of object-oriented programming concepts You are crazy about your selected domain. Today is The Day you can write a python program on YOUR DOMAIN!!! Create a class called “Your Domain Name” which has five attributes(2 string, 3 number). Initialize the variables in the ”__init_” method and write at least three more methods. With respect to your domain, you can create methods for getting Input, update the values, verify the condition, and etc,."
   ]
  },
  {
   "cell_type": "code",
   "execution_count": 2,
   "metadata": {},
   "outputs": [
    {
     "name": "stdout",
     "output_type": "stream",
     "text": [
      "Vinay Kumar's net salary: 53,550.00\n",
      "Nirupam's net salary: 72,000.00\n",
      "Vinay Kumar's salary meets condition: True\n",
      "Nirupam's salary meets condition: True\n"
     ]
    }
   ],
   "source": [
    "class Employee:\n",
    "    def __init__(self, name, position, salary, bonus, tax_rate):\n",
    "        self.name = name\n",
    "        self.position = position\n",
    "        self.salary = salary\n",
    "        self.bonus = bonus\n",
    "        self.tax_rate = tax_rate\n",
    "    \n",
    "    def update_salary(self, new_salary):\n",
    "        self.salary = new_salary\n",
    "    \n",
    "    def calculate_net_salary(self):\n",
    "        taxable_income = self.salary + self.bonus\n",
    "        tax_amount = taxable_income * (self.tax_rate / 100)\n",
    "        net_salary = taxable_income - tax_amount\n",
    "        return net_salary\n",
    "    \n",
    "    def verify_salary_condition(self, threshold):\n",
    "        net_salary = self.calculate_net_salary()\n",
    "        if net_salary >= threshold:\n",
    "            return True\n",
    "        else:\n",
    "            return False\n",
    "\n",
    "# Inheritance: Create a subclass for Manager\n",
    "class Manager(Employee):\n",
    "    def __init__(self, name, salary, bonus, tax_rate, team_size):\n",
    "        super().__init__(name, \"Manager\", salary, bonus, tax_rate)\n",
    "        self.team_size = team_size\n",
    "    \n",
    "    # Polymorphism: Override the calculate_net_salary method for Managers\n",
    "    def calculate_net_salary(self):\n",
    "        base_salary = self.salary + self.bonus\n",
    "        management_allowance = self.team_size * 1000\n",
    "        taxable_income = base_salary + management_allowance\n",
    "        tax_amount = taxable_income * (self.tax_rate / 100)\n",
    "        net_salary = taxable_income - tax_amount\n",
    "        return net_salary\n",
    "\n",
    "# Create objects\n",
    "employee1 = Employee(\"Vinay Kumar\", \"Developer\", 60000, 3000, 15)\n",
    "employee2 = Manager(\"Nirupam\", 80000, 5000, 20, 5)\n",
    "\n",
    "# Call methods\n",
    "print(f\"{employee1.name}'s net salary: {employee1.calculate_net_salary():,.2f}\")\n",
    "print(f\"{employee2.name}'s net salary: {employee2.calculate_net_salary():,.2f}\")\n",
    "\n",
    "threshold = 50000\n",
    "print(f\"{employee1.name}'s salary meets condition: {employee1.verify_salary_condition(threshold)}\")\n",
    "print(f\"{employee2.name}'s salary meets condition: {employee2.verify_salary_condition(threshold)}\")\n"
   ]
  }
 ],
 "metadata": {
  "kernelspec": {
   "display_name": "Python 3",
   "language": "python",
   "name": "python3"
  },
  "language_info": {
   "codemirror_mode": {
    "name": "ipython",
    "version": 3
   },
   "file_extension": ".py",
   "mimetype": "text/x-python",
   "name": "python",
   "nbconvert_exporter": "python",
   "pygments_lexer": "ipython3",
   "version": "3.10.11"
  },
  "orig_nbformat": 4
 },
 "nbformat": 4,
 "nbformat_minor": 2
}
