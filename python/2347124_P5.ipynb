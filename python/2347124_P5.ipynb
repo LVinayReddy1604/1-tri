{
 "cells": [
  {
   "cell_type": "code",
   "execution_count": 5,
   "metadata": {},
   "outputs": [
    {
     "name": "stdout",
     "output_type": "stream",
     "text": [
      "Your age is: 23\n"
     ]
    }
   ],
   "source": [
    "import datetime\n",
    "\n",
    "def calculate_age(dob_year, dob_month, dob_day):\n",
    "    current_year = datetime.datetime.now().year\n",
    "    current_month = datetime.datetime.now().month\n",
    "    current_day = datetime.datetime.now().day\n",
    "\n",
    "    age = current_year - dob_year\n",
    "\n",
    "    if (dob_month, dob_day) > (current_month, current_day):\n",
    "        age -= 1\n",
    "\n",
    "    return age\n",
    "\n",
    "try:\n",
    "    dob_user = input(\"Please enter your date of birth (dd-mm-yyyy): \")\n",
    "\n",
    "    if dob_user == \"\":\n",
    "        print(\"Please enter a valid date of birth.\")\n",
    "    elif dob_user == \"?\":\n",
    "        print(\"Please enter your date of birth \")\n",
    "    elif dob_user.lower() == \"Q\" or dob_user.lower() == \"q\":\n",
    "        raise Exception(\"Bye! Hope you run this program again.\")\n",
    "    else:\n",
    "        dob = dob_user.split(\"-\")\n",
    "        if len(dob) == 3:\n",
    "            dob_day = int(dob[0])\n",
    "            dob_month = int(dob[1])\n",
    "            dob_year = int(dob[2])\n",
    "            age = calculate_age(dob_year, dob_month, dob_day)\n",
    "            print(\"Your age is:\", age)\n",
    "        else:\n",
    "            print(\"Please enter a valid date of birth in the format dd-mm-yyyy.\")\n",
    "\n",
    "except ValueError:\n",
    "    print(\"Please enter a valid date of birth in the format dd-mm-yyyy.\")\n",
    "\n",
    "except Exception as e:\n",
    "    print(str(e))"
   ]
  }
 ],
 "metadata": {
  "kernelspec": {
   "display_name": "Python 3",
   "language": "python",
   "name": "python3"
  },
  "language_info": {
   "codemirror_mode": {
    "name": "ipython",
    "version": 3
   },
   "file_extension": ".py",
   "mimetype": "text/x-python",
   "name": "python",
   "nbconvert_exporter": "python",
   "pygments_lexer": "ipython3",
   "version": "3.10.11"
  },
  "orig_nbformat": 4
 },
 "nbformat": 4,
 "nbformat_minor": 2
}
